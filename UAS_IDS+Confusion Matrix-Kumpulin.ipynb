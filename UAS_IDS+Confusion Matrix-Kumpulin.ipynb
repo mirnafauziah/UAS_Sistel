{
 "cells": [
  {
   "cell_type": "markdown",
   "metadata": {},
   "source": [
    "## IMPORTING THE REQUIRED LIBRARIES"
   ]
  },
  {
   "cell_type": "code",
   "execution_count": 47,
   "metadata": {},
   "outputs": [],
   "source": [
    "#Make sure all the following libraries are installed before running the application. \n",
    "import pandas as pd\n",
    "import numpy as np\n",
    "import sklearn\n",
    "from sklearn.utils import shuffle\n",
    "from sklearn.metrics import *\n",
    "from sklearn.preprocessing import StandardScaler\n",
    "from sklearn.model_selection import train_test_split\n",
    "from sklearn.preprocessing import LabelEncoder\n",
    "import matplotlib.pyplot as plt\n",
    "import warnings\n",
    "\n",
    "from keras.preprocessing import sequence\n",
    "from keras import optimizers\n",
    "from keras.utils import np_utils\n",
    "from keras.models import Sequential\n",
    "from keras.layers import Dense, Dropout, Activation, Embedding, SimpleRNN, BatchNormalization\n",
    "from keras.models import model_from_json\n",
    "\n",
    "warnings.filterwarnings(\"ignore\")\n",
    "%matplotlib inline\n",
    "\n"
   ]
  },
  {
   "cell_type": "markdown",
   "metadata": {},
   "source": [
    "## LOADING TRAINING AND TESTING DATA"
   ]
  },
  {
   "cell_type": "code",
   "execution_count": 48,
   "metadata": {},
   "outputs": [],
   "source": [
    "#memasukan tabel dalam file .csv sebagai header di training data\n",
    "\n",
    "#load the csv file containing the column names \n",
    "column_name = pd.read_csv(\"Field Names.csv\", header = None)"
   ]
  },
  {
   "cell_type": "code",
   "execution_count": 49,
   "metadata": {},
   "outputs": [],
   "source": [
    "#mengubah baris yg ada di file .csv sebagai msg2 kolom baru\n",
    "\n",
    "#Convert the array into list\n",
    "new_columns = list(column_name[0].values)"
   ]
  },
  {
   "cell_type": "code",
   "execution_count": 50,
   "metadata": {},
   "outputs": [],
   "source": [
    "#menambah kolom kelas dan kesulitan\n",
    "\n",
    "#adding difficulty \n",
    "new_columns += ['class', 'difficulty']"
   ]
  },
  {
   "cell_type": "code",
   "execution_count": 51,
   "metadata": {},
   "outputs": [],
   "source": [
    "#loading train and test data files\n",
    "train_data = pd.read_csv('KDDTrain+.txt', names = new_columns)\n",
    "test_data = pd.read_csv('KDDTest+.txt', names = new_columns)"
   ]
  },
  {
   "cell_type": "code",
   "execution_count": 52,
   "metadata": {
    "scrolled": false
   },
   "outputs": [
    {
     "name": "stdout",
     "output_type": "stream",
     "text": [
      "The training data is\n"
     ]
    },
    {
     "data": {
      "text/html": [
       "<div>\n",
       "<style scoped>\n",
       "    .dataframe tbody tr th:only-of-type {\n",
       "        vertical-align: middle;\n",
       "    }\n",
       "\n",
       "    .dataframe tbody tr th {\n",
       "        vertical-align: top;\n",
       "    }\n",
       "\n",
       "    .dataframe thead th {\n",
       "        text-align: right;\n",
       "    }\n",
       "</style>\n",
       "<table border=\"1\" class=\"dataframe\">\n",
       "  <thead>\n",
       "    <tr style=\"text-align: right;\">\n",
       "      <th></th>\n",
       "      <th>duration</th>\n",
       "      <th>protocol_type</th>\n",
       "      <th>service</th>\n",
       "      <th>flag</th>\n",
       "      <th>src_bytes</th>\n",
       "      <th>dst_bytes</th>\n",
       "      <th>land</th>\n",
       "      <th>wrong_fragment</th>\n",
       "      <th>urgent</th>\n",
       "      <th>hot</th>\n",
       "      <th>...</th>\n",
       "      <th>dst_host_same_srv_rate</th>\n",
       "      <th>dst_host_diff_srv_rate</th>\n",
       "      <th>dst_host_same_src_port_rate</th>\n",
       "      <th>dst_host_srv_diff_host_rate</th>\n",
       "      <th>dst_host_serror_rate</th>\n",
       "      <th>dst_host_srv_serror_rate</th>\n",
       "      <th>dst_host_rerror_rate</th>\n",
       "      <th>dst_host_srv_rerror_rate</th>\n",
       "      <th>class</th>\n",
       "      <th>difficulty</th>\n",
       "    </tr>\n",
       "  </thead>\n",
       "  <tbody>\n",
       "    <tr>\n",
       "      <th>125968</th>\n",
       "      <td>0</td>\n",
       "      <td>tcp</td>\n",
       "      <td>private</td>\n",
       "      <td>S0</td>\n",
       "      <td>0</td>\n",
       "      <td>0</td>\n",
       "      <td>0</td>\n",
       "      <td>0</td>\n",
       "      <td>0</td>\n",
       "      <td>0</td>\n",
       "      <td>...</td>\n",
       "      <td>0.10</td>\n",
       "      <td>0.06</td>\n",
       "      <td>0.00</td>\n",
       "      <td>0.0</td>\n",
       "      <td>1.00</td>\n",
       "      <td>1.0</td>\n",
       "      <td>0.00</td>\n",
       "      <td>0.0</td>\n",
       "      <td>neptune</td>\n",
       "      <td>20</td>\n",
       "    </tr>\n",
       "    <tr>\n",
       "      <th>125969</th>\n",
       "      <td>8</td>\n",
       "      <td>udp</td>\n",
       "      <td>private</td>\n",
       "      <td>SF</td>\n",
       "      <td>105</td>\n",
       "      <td>145</td>\n",
       "      <td>0</td>\n",
       "      <td>0</td>\n",
       "      <td>0</td>\n",
       "      <td>0</td>\n",
       "      <td>...</td>\n",
       "      <td>0.96</td>\n",
       "      <td>0.01</td>\n",
       "      <td>0.01</td>\n",
       "      <td>0.0</td>\n",
       "      <td>0.00</td>\n",
       "      <td>0.0</td>\n",
       "      <td>0.00</td>\n",
       "      <td>0.0</td>\n",
       "      <td>normal</td>\n",
       "      <td>21</td>\n",
       "    </tr>\n",
       "    <tr>\n",
       "      <th>125970</th>\n",
       "      <td>0</td>\n",
       "      <td>tcp</td>\n",
       "      <td>smtp</td>\n",
       "      <td>SF</td>\n",
       "      <td>2231</td>\n",
       "      <td>384</td>\n",
       "      <td>0</td>\n",
       "      <td>0</td>\n",
       "      <td>0</td>\n",
       "      <td>0</td>\n",
       "      <td>...</td>\n",
       "      <td>0.12</td>\n",
       "      <td>0.06</td>\n",
       "      <td>0.00</td>\n",
       "      <td>0.0</td>\n",
       "      <td>0.72</td>\n",
       "      <td>0.0</td>\n",
       "      <td>0.01</td>\n",
       "      <td>0.0</td>\n",
       "      <td>normal</td>\n",
       "      <td>18</td>\n",
       "    </tr>\n",
       "    <tr>\n",
       "      <th>125971</th>\n",
       "      <td>0</td>\n",
       "      <td>tcp</td>\n",
       "      <td>klogin</td>\n",
       "      <td>S0</td>\n",
       "      <td>0</td>\n",
       "      <td>0</td>\n",
       "      <td>0</td>\n",
       "      <td>0</td>\n",
       "      <td>0</td>\n",
       "      <td>0</td>\n",
       "      <td>...</td>\n",
       "      <td>0.03</td>\n",
       "      <td>0.05</td>\n",
       "      <td>0.00</td>\n",
       "      <td>0.0</td>\n",
       "      <td>1.00</td>\n",
       "      <td>1.0</td>\n",
       "      <td>0.00</td>\n",
       "      <td>0.0</td>\n",
       "      <td>neptune</td>\n",
       "      <td>20</td>\n",
       "    </tr>\n",
       "    <tr>\n",
       "      <th>125972</th>\n",
       "      <td>0</td>\n",
       "      <td>tcp</td>\n",
       "      <td>ftp_data</td>\n",
       "      <td>SF</td>\n",
       "      <td>151</td>\n",
       "      <td>0</td>\n",
       "      <td>0</td>\n",
       "      <td>0</td>\n",
       "      <td>0</td>\n",
       "      <td>0</td>\n",
       "      <td>...</td>\n",
       "      <td>0.30</td>\n",
       "      <td>0.03</td>\n",
       "      <td>0.30</td>\n",
       "      <td>0.0</td>\n",
       "      <td>0.00</td>\n",
       "      <td>0.0</td>\n",
       "      <td>0.00</td>\n",
       "      <td>0.0</td>\n",
       "      <td>normal</td>\n",
       "      <td>21</td>\n",
       "    </tr>\n",
       "  </tbody>\n",
       "</table>\n",
       "<p>5 rows × 43 columns</p>\n",
       "</div>"
      ],
      "text/plain": [
       "        duration protocol_type   service flag  src_bytes  dst_bytes  land  \\\n",
       "125968         0           tcp   private   S0          0          0     0   \n",
       "125969         8           udp   private   SF        105        145     0   \n",
       "125970         0           tcp      smtp   SF       2231        384     0   \n",
       "125971         0           tcp    klogin   S0          0          0     0   \n",
       "125972         0           tcp  ftp_data   SF        151          0     0   \n",
       "\n",
       "        wrong_fragment  urgent  hot  ...  dst_host_same_srv_rate  \\\n",
       "125968               0       0    0  ...                    0.10   \n",
       "125969               0       0    0  ...                    0.96   \n",
       "125970               0       0    0  ...                    0.12   \n",
       "125971               0       0    0  ...                    0.03   \n",
       "125972               0       0    0  ...                    0.30   \n",
       "\n",
       "        dst_host_diff_srv_rate  dst_host_same_src_port_rate  \\\n",
       "125968                    0.06                         0.00   \n",
       "125969                    0.01                         0.01   \n",
       "125970                    0.06                         0.00   \n",
       "125971                    0.05                         0.00   \n",
       "125972                    0.03                         0.30   \n",
       "\n",
       "        dst_host_srv_diff_host_rate  dst_host_serror_rate  \\\n",
       "125968                          0.0                  1.00   \n",
       "125969                          0.0                  0.00   \n",
       "125970                          0.0                  0.72   \n",
       "125971                          0.0                  1.00   \n",
       "125972                          0.0                  0.00   \n",
       "\n",
       "        dst_host_srv_serror_rate  dst_host_rerror_rate  \\\n",
       "125968                       1.0                  0.00   \n",
       "125969                       0.0                  0.00   \n",
       "125970                       0.0                  0.01   \n",
       "125971                       1.0                  0.00   \n",
       "125972                       0.0                  0.00   \n",
       "\n",
       "        dst_host_srv_rerror_rate    class  difficulty  \n",
       "125968                       0.0  neptune          20  \n",
       "125969                       0.0   normal          21  \n",
       "125970                       0.0   normal          18  \n",
       "125971                       0.0  neptune          20  \n",
       "125972                       0.0   normal          21  \n",
       "\n",
       "[5 rows x 43 columns]"
      ]
     },
     "execution_count": 52,
     "metadata": {},
     "output_type": "execute_result"
    }
   ],
   "source": [
    "#Training data sample\n",
    "print(\"The training data is\")\n",
    "train_data.tail()"
   ]
  },
  {
   "cell_type": "code",
   "execution_count": 53,
   "metadata": {},
   "outputs": [
    {
     "name": "stdout",
     "output_type": "stream",
     "text": [
      "The shape of the training dataframe is : (125973, 43)\n"
     ]
    }
   ],
   "source": [
    "#Output total rows and columns of dataframe\n",
    "print(f\"The shape of the training dataframe is : {train_data.shape}\")"
   ]
  },
  {
   "cell_type": "code",
   "execution_count": 54,
   "metadata": {},
   "outputs": [
    {
     "name": "stdout",
     "output_type": "stream",
     "text": [
      "The testing data is\n"
     ]
    },
    {
     "data": {
      "text/html": [
       "<div>\n",
       "<style scoped>\n",
       "    .dataframe tbody tr th:only-of-type {\n",
       "        vertical-align: middle;\n",
       "    }\n",
       "\n",
       "    .dataframe tbody tr th {\n",
       "        vertical-align: top;\n",
       "    }\n",
       "\n",
       "    .dataframe thead th {\n",
       "        text-align: right;\n",
       "    }\n",
       "</style>\n",
       "<table border=\"1\" class=\"dataframe\">\n",
       "  <thead>\n",
       "    <tr style=\"text-align: right;\">\n",
       "      <th></th>\n",
       "      <th>duration</th>\n",
       "      <th>protocol_type</th>\n",
       "      <th>service</th>\n",
       "      <th>flag</th>\n",
       "      <th>src_bytes</th>\n",
       "      <th>dst_bytes</th>\n",
       "      <th>land</th>\n",
       "      <th>wrong_fragment</th>\n",
       "      <th>urgent</th>\n",
       "      <th>hot</th>\n",
       "      <th>...</th>\n",
       "      <th>dst_host_same_srv_rate</th>\n",
       "      <th>dst_host_diff_srv_rate</th>\n",
       "      <th>dst_host_same_src_port_rate</th>\n",
       "      <th>dst_host_srv_diff_host_rate</th>\n",
       "      <th>dst_host_serror_rate</th>\n",
       "      <th>dst_host_srv_serror_rate</th>\n",
       "      <th>dst_host_rerror_rate</th>\n",
       "      <th>dst_host_srv_rerror_rate</th>\n",
       "      <th>class</th>\n",
       "      <th>difficulty</th>\n",
       "    </tr>\n",
       "  </thead>\n",
       "  <tbody>\n",
       "    <tr>\n",
       "      <th>0</th>\n",
       "      <td>0</td>\n",
       "      <td>tcp</td>\n",
       "      <td>private</td>\n",
       "      <td>REJ</td>\n",
       "      <td>0</td>\n",
       "      <td>0</td>\n",
       "      <td>0</td>\n",
       "      <td>0</td>\n",
       "      <td>0</td>\n",
       "      <td>0</td>\n",
       "      <td>...</td>\n",
       "      <td>0.04</td>\n",
       "      <td>0.06</td>\n",
       "      <td>0.00</td>\n",
       "      <td>0.00</td>\n",
       "      <td>0.0</td>\n",
       "      <td>0.0</td>\n",
       "      <td>1.00</td>\n",
       "      <td>1.00</td>\n",
       "      <td>neptune</td>\n",
       "      <td>21</td>\n",
       "    </tr>\n",
       "    <tr>\n",
       "      <th>1</th>\n",
       "      <td>0</td>\n",
       "      <td>tcp</td>\n",
       "      <td>private</td>\n",
       "      <td>REJ</td>\n",
       "      <td>0</td>\n",
       "      <td>0</td>\n",
       "      <td>0</td>\n",
       "      <td>0</td>\n",
       "      <td>0</td>\n",
       "      <td>0</td>\n",
       "      <td>...</td>\n",
       "      <td>0.00</td>\n",
       "      <td>0.06</td>\n",
       "      <td>0.00</td>\n",
       "      <td>0.00</td>\n",
       "      <td>0.0</td>\n",
       "      <td>0.0</td>\n",
       "      <td>1.00</td>\n",
       "      <td>1.00</td>\n",
       "      <td>neptune</td>\n",
       "      <td>21</td>\n",
       "    </tr>\n",
       "    <tr>\n",
       "      <th>2</th>\n",
       "      <td>2</td>\n",
       "      <td>tcp</td>\n",
       "      <td>ftp_data</td>\n",
       "      <td>SF</td>\n",
       "      <td>12983</td>\n",
       "      <td>0</td>\n",
       "      <td>0</td>\n",
       "      <td>0</td>\n",
       "      <td>0</td>\n",
       "      <td>0</td>\n",
       "      <td>...</td>\n",
       "      <td>0.61</td>\n",
       "      <td>0.04</td>\n",
       "      <td>0.61</td>\n",
       "      <td>0.02</td>\n",
       "      <td>0.0</td>\n",
       "      <td>0.0</td>\n",
       "      <td>0.00</td>\n",
       "      <td>0.00</td>\n",
       "      <td>normal</td>\n",
       "      <td>21</td>\n",
       "    </tr>\n",
       "    <tr>\n",
       "      <th>3</th>\n",
       "      <td>0</td>\n",
       "      <td>icmp</td>\n",
       "      <td>eco_i</td>\n",
       "      <td>SF</td>\n",
       "      <td>20</td>\n",
       "      <td>0</td>\n",
       "      <td>0</td>\n",
       "      <td>0</td>\n",
       "      <td>0</td>\n",
       "      <td>0</td>\n",
       "      <td>...</td>\n",
       "      <td>1.00</td>\n",
       "      <td>0.00</td>\n",
       "      <td>1.00</td>\n",
       "      <td>0.28</td>\n",
       "      <td>0.0</td>\n",
       "      <td>0.0</td>\n",
       "      <td>0.00</td>\n",
       "      <td>0.00</td>\n",
       "      <td>saint</td>\n",
       "      <td>15</td>\n",
       "    </tr>\n",
       "    <tr>\n",
       "      <th>4</th>\n",
       "      <td>1</td>\n",
       "      <td>tcp</td>\n",
       "      <td>telnet</td>\n",
       "      <td>RSTO</td>\n",
       "      <td>0</td>\n",
       "      <td>15</td>\n",
       "      <td>0</td>\n",
       "      <td>0</td>\n",
       "      <td>0</td>\n",
       "      <td>0</td>\n",
       "      <td>...</td>\n",
       "      <td>0.31</td>\n",
       "      <td>0.17</td>\n",
       "      <td>0.03</td>\n",
       "      <td>0.02</td>\n",
       "      <td>0.0</td>\n",
       "      <td>0.0</td>\n",
       "      <td>0.83</td>\n",
       "      <td>0.71</td>\n",
       "      <td>mscan</td>\n",
       "      <td>11</td>\n",
       "    </tr>\n",
       "  </tbody>\n",
       "</table>\n",
       "<p>5 rows × 43 columns</p>\n",
       "</div>"
      ],
      "text/plain": [
       "   duration protocol_type   service  flag  src_bytes  dst_bytes  land  \\\n",
       "0         0           tcp   private   REJ          0          0     0   \n",
       "1         0           tcp   private   REJ          0          0     0   \n",
       "2         2           tcp  ftp_data    SF      12983          0     0   \n",
       "3         0          icmp     eco_i    SF         20          0     0   \n",
       "4         1           tcp    telnet  RSTO          0         15     0   \n",
       "\n",
       "   wrong_fragment  urgent  hot  ...  dst_host_same_srv_rate  \\\n",
       "0               0       0    0  ...                    0.04   \n",
       "1               0       0    0  ...                    0.00   \n",
       "2               0       0    0  ...                    0.61   \n",
       "3               0       0    0  ...                    1.00   \n",
       "4               0       0    0  ...                    0.31   \n",
       "\n",
       "   dst_host_diff_srv_rate  dst_host_same_src_port_rate  \\\n",
       "0                    0.06                         0.00   \n",
       "1                    0.06                         0.00   \n",
       "2                    0.04                         0.61   \n",
       "3                    0.00                         1.00   \n",
       "4                    0.17                         0.03   \n",
       "\n",
       "   dst_host_srv_diff_host_rate  dst_host_serror_rate  \\\n",
       "0                         0.00                   0.0   \n",
       "1                         0.00                   0.0   \n",
       "2                         0.02                   0.0   \n",
       "3                         0.28                   0.0   \n",
       "4                         0.02                   0.0   \n",
       "\n",
       "   dst_host_srv_serror_rate  dst_host_rerror_rate  dst_host_srv_rerror_rate  \\\n",
       "0                       0.0                  1.00                      1.00   \n",
       "1                       0.0                  1.00                      1.00   \n",
       "2                       0.0                  0.00                      0.00   \n",
       "3                       0.0                  0.00                      0.00   \n",
       "4                       0.0                  0.83                      0.71   \n",
       "\n",
       "     class  difficulty  \n",
       "0  neptune          21  \n",
       "1  neptune          21  \n",
       "2   normal          21  \n",
       "3    saint          15  \n",
       "4    mscan          11  \n",
       "\n",
       "[5 rows x 43 columns]"
      ]
     },
     "execution_count": 54,
     "metadata": {},
     "output_type": "execute_result"
    }
   ],
   "source": [
    "#Same for testing\n",
    "print(\"The testing data is\")\n",
    "test_data.head()"
   ]
  },
  {
   "cell_type": "code",
   "execution_count": 55,
   "metadata": {},
   "outputs": [
    {
     "name": "stdout",
     "output_type": "stream",
     "text": [
      "The shape of the testing dataframe is : (22544, 43)\n"
     ]
    }
   ],
   "source": [
    "#Idem dito ^\n",
    "print(f\"The shape of the testing dataframe is : {test_data.shape}\")"
   ]
  },
  {
   "cell_type": "code",
   "execution_count": 56,
   "metadata": {},
   "outputs": [],
   "source": [
    "#Load attacks.txt containing the attack categories\n",
    "map_attacks = [x.strip().split() for x in open('attacks.txt', 'r')]\n",
    "map_attacks = {k:v for (k,v) in map_attacks}"
   ]
  },
  {
   "cell_type": "code",
   "execution_count": 57,
   "metadata": {},
   "outputs": [],
   "source": [
    "#Replace the \"class\" column values to 5 attack categories in training and testing dataframe\n",
    "train_data['class'] = train_data['class'].replace(map_attacks)\n",
    "test_data['class'] = test_data['class'].replace(map_attacks)"
   ]
  },
  {
   "cell_type": "code",
   "execution_count": 58,
   "metadata": {},
   "outputs": [],
   "source": [
    "train_data = shuffle(train_data)"
   ]
  },
  {
   "cell_type": "markdown",
   "metadata": {},
   "source": [
    "## DATA PREPROCESSING"
   ]
  },
  {
   "cell_type": "code",
   "execution_count": 59,
   "metadata": {},
   "outputs": [],
   "source": [
    "#separate the training dataframe into feature columns and label columns\n",
    "X = train_data.drop('class', axis = 1) #Independent features\n",
    "y = train_data['class'] #Dependent features (Labels)"
   ]
  },
  {
   "cell_type": "code",
   "execution_count": 60,
   "metadata": {},
   "outputs": [],
   "source": [
    "#Converting String to Integer with get_dummies by pandas\n",
    "columns = ['protocol_type', 'service', 'flag']\n",
    "X_new = pd.get_dummies(X, columns = columns, drop_first = True)"
   ]
  },
  {
   "cell_type": "code",
   "execution_count": 61,
   "metadata": {},
   "outputs": [],
   "source": [
    "#Idem dito for class ^\n",
    "y_new = train_data['class']\n",
    "y_new = pd.get_dummies(y_new)"
   ]
  },
  {
   "cell_type": "code",
   "execution_count": 62,
   "metadata": {},
   "outputs": [],
   "source": [
    "#Split data: 80% training and 20% testing \n",
    "X_train, X_test, y_train, y_test = train_test_split(X_new, y_new, test_size = 0.2, random_state = 101)"
   ]
  },
  {
   "cell_type": "code",
   "execution_count": 63,
   "metadata": {},
   "outputs": [],
   "source": [
    "#Use StandardScaler() to standardize data - explained in Honours Project\n",
    "sc = StandardScaler()\n",
    "sc.fit(np.array(X_train))\n",
    "X_train = sc.transform(X_train)\n",
    "X_test = sc.transform(X_test)"
   ]
  },
  {
   "cell_type": "code",
   "execution_count": 64,
   "metadata": {},
   "outputs": [
    {
     "name": "stdout",
     "output_type": "stream",
     "text": [
      "The training data is\n",
      "[[-0.11086349 -0.0079693  -0.00466275 ... -0.01916451 -1.21350498\n",
      "  -0.04677384]\n",
      " [-0.11086349 -0.0079693  -0.00466275 ... -0.01916451 -1.21350498\n",
      "  -0.04677384]\n",
      " [-0.11086349 -0.00780667 -0.00466275 ... -0.01916451  0.82405925\n",
      "  -0.04677384]\n",
      " ...\n",
      " [-0.11086349 -0.0079073  -0.00456056 ... -0.01916451  0.82405925\n",
      "  -0.04677384]\n",
      " [-0.11086349 -0.00796783 -0.00466275 ... -0.01916451  0.82405925\n",
      "  -0.04677384]\n",
      " [-0.11086349 -0.0079693  -0.00466275 ... -0.01916451 -1.21350498\n",
      "  -0.04677384]]\n",
      "        dos  normal  probe  r2l  u2r\n",
      "45149     1       0      0    0    0\n",
      "99985     1       0      0    0    0\n",
      "104151    0       1      0    0    0\n",
      "121245    0       1      0    0    0\n",
      "63066     1       0      0    0    0\n",
      "...     ...     ...    ...  ...  ...\n",
      "118736    0       1      0    0    0\n",
      "84120     0       1      0    0    0\n",
      "15346     0       1      0    0    0\n",
      "2539      0       0      1    0    0\n",
      "34247     1       0      0    0    0\n",
      "\n",
      "[100778 rows x 5 columns]\n",
      "--------------------------------------------------------------------------------\n",
      "The shape of the training X_train dataframe is : (100778, 120)\n",
      "The shape of the training y_train dataframe is : (100778, 5)\n",
      "--------------------------------------------------------------------------------\n",
      "The testing data is\n",
      "[[-0.11086349 -0.0079693  -0.00466275 ... -0.01916451 -1.21350498\n",
      "  -0.04677384]\n",
      " [-0.11086349 -0.00777944 -0.00466275 ... -0.01916451  0.82405925\n",
      "  -0.04677384]\n",
      " [-0.11086349 -0.0079693  -0.00466275 ... -0.01916451 -1.21350498\n",
      "  -0.04677384]\n",
      " ...\n",
      " [-0.11086349 -0.00665168 -0.00466275 ... -0.01916451  0.82405925\n",
      "  -0.04677384]\n",
      " [-0.11086349 -0.0079693  -0.00466275 ... -0.01916451 -1.21350498\n",
      "  -0.04677384]\n",
      " [-0.11086349 -0.0079693  -0.00466275 ... -0.01916451 -1.21350498\n",
      "  -0.04677384]]\n",
      "        dos  normal  probe  r2l  u2r\n",
      "16250     1       0      0    0    0\n",
      "2928      1       0      0    0    0\n",
      "114619    1       0      0    0    0\n",
      "39940     0       1      0    0    0\n",
      "78121     0       1      0    0    0\n",
      "...     ...     ...    ...  ...  ...\n",
      "57888     0       1      0    0    0\n",
      "77129     1       0      0    0    0\n",
      "110048    0       1      0    0    0\n",
      "105168    1       0      0    0    0\n",
      "45805     1       0      0    0    0\n",
      "\n",
      "[25195 rows x 5 columns]\n",
      "--------------------------------------------------------------------------------\n",
      "The shape of the testing X_test dataframe is : (25195, 120)\n",
      "The shape of the testing y_test dataframe is : (25195, 5)\n"
     ]
    }
   ],
   "source": [
    "#untuk melihat data yang digunakan\n",
    "\n",
    "#Training data sample\n",
    "print(\"The training data is\")\n",
    "print (X_train)\n",
    "print (y_train)\n",
    "print(\"--------------------------------------------------------------------------------\")\n",
    "#Output total rows and columns of dataframe\n",
    "print(f\"The shape of the training X_train dataframe is : {X_train.shape}\")\n",
    "print(f\"The shape of the training y_train dataframe is : {y_train.shape}\")\n",
    "print(\"--------------------------------------------------------------------------------\")\n",
    "\n",
    "#Same for testing\n",
    "print(\"The testing data is\")\n",
    "print (X_test)\n",
    "print (y_test)\n",
    "print(\"--------------------------------------------------------------------------------\")\n",
    "#Idem dito ^\n",
    "print(f\"The shape of the testing X_test dataframe is : {X_test.shape}\")\n",
    "print(f\"The shape of the testing y_test dataframe is : {y_test.shape}\")"
   ]
  },
  {
   "cell_type": "markdown",
   "metadata": {},
   "source": [
    "MODEL 1: "
   ]
  },
  {
   "cell_type": "markdown",
   "metadata": {},
   "source": [
    "First model. This model contains all the dense layers. In dense layers each node or neuron in a layer is connected to all the nodes/neurons in the preceding layer, further explained in Honours Document. "
   ]
  },
  {
   "cell_type": "code",
   "execution_count": 65,
   "metadata": {},
   "outputs": [],
   "source": [
    "#Use the keras's sequential API \n",
    "#First dense layer takes an input parameter as 256 (number of neurons in the first layer).\n",
    "#The second parameter \"input_dim\" corresponds to the input features. \n",
    "#Use \"relu\" as activation function.\n",
    "#The activation function for last dense layer is \"softmax\" because of the multiple classes, further explained in document.\n",
    "#Set dropout for 10%. \n",
    "model1 = Sequential()\n",
    "model1.add(Dense(64, input_dim = 120, activation = \"relu\", kernel_initializer = \"lecun_normal\"))\n",
    "model1.add(Dense(128, activation = \"relu\"))\n",
    "model1.add(Dense(5, activation = \"softmax\"))"
   ]
  },
  {
   "cell_type": "code",
   "execution_count": 66,
   "metadata": {
    "scrolled": false
   },
   "outputs": [
    {
     "name": "stdout",
     "output_type": "stream",
     "text": [
      "Model: \"sequential_3\"\n",
      "_________________________________________________________________\n",
      "Layer (type)                 Output Shape              Param #   \n",
      "=================================================================\n",
      "dense_7 (Dense)              (None, 64)                7744      \n",
      "_________________________________________________________________\n",
      "dense_8 (Dense)              (None, 128)               8320      \n",
      "_________________________________________________________________\n",
      "dense_9 (Dense)              (None, 5)                 645       \n",
      "=================================================================\n",
      "Total params: 16,709\n",
      "Trainable params: 16,709\n",
      "Non-trainable params: 0\n",
      "_________________________________________________________________\n"
     ]
    }
   ],
   "source": [
    "#Summary of model architecture listing information about parameters per layer. \n",
    "model1.summary()"
   ]
  },
  {
   "cell_type": "code",
   "execution_count": 67,
   "metadata": {},
   "outputs": [],
   "source": [
    "#Three paramaters: \n",
    "#Loss - The loss function.\n",
    "#Optimizer - To minimize the loss function.\n",
    "#Metrics - The mode of evaluation for our model.\n",
    "#\"categorical_loss\" - is used because of the multi-class classifcation problem.\n",
    "#\"adam\" - The updated version of SGD.\n",
    "optim = optimizers.SGD(lr = 0.0001)\n",
    "model1.compile(loss = 'categorical_crossentropy', optimizer = optim, metrics = ['accuracy'])"
   ]
  },
  {
   "cell_type": "code",
   "execution_count": 68,
   "metadata": {},
   "outputs": [
    {
     "name": "stdout",
     "output_type": "stream",
     "text": [
      "Train on 100778 samples, validate on 25195 samples\n",
      "Epoch 1/20\n",
      "100778/100778 [==============================] - 8s 77us/step - loss: 1.2360 - accuracy: 0.6584 - val_loss: 0.9682 - val_accuracy: 0.7752\n",
      "Epoch 2/20\n",
      "100778/100778 [==============================] - 8s 76us/step - loss: 0.8031 - accuracy: 0.8340 - val_loss: 0.6675 - val_accuracy: 0.8681\n",
      "Epoch 3/20\n",
      "100778/100778 [==============================] - 8s 76us/step - loss: 0.5738 - accuracy: 0.8752 - val_loss: 0.4989 - val_accuracy: 0.8814\n",
      "Epoch 4/20\n",
      "100778/100778 [==============================] - 8s 77us/step - loss: 0.4441 - accuracy: 0.8880 - val_loss: 0.4007 - val_accuracy: 0.8987\n",
      "Epoch 5/20\n",
      "100778/100778 [==============================] - 8s 80us/step - loss: 0.3651 - accuracy: 0.9158 - val_loss: 0.3376 - val_accuracy: 0.9303\n",
      "Epoch 6/20\n",
      "100778/100778 [==============================] - 8s 78us/step - loss: 0.3122 - accuracy: 0.9369 - val_loss: 0.2935 - val_accuracy: 0.9429\n",
      "Epoch 7/20\n",
      "100778/100778 [==============================] - 8s 79us/step - loss: 0.2741 - accuracy: 0.9457 - val_loss: 0.2609 - val_accuracy: 0.9486\n",
      "Epoch 8/20\n",
      "100778/100778 [==============================] - 8s 77us/step - loss: 0.2453 - accuracy: 0.9517 - val_loss: 0.2358 - val_accuracy: 0.9540\n",
      "Epoch 9/20\n",
      "100778/100778 [==============================] - 8s 77us/step - loss: 0.2229 - accuracy: 0.9557 - val_loss: 0.2159 - val_accuracy: 0.9563\n",
      "Epoch 10/20\n",
      "100778/100778 [==============================] - 8s 82us/step - loss: 0.2047 - accuracy: 0.9583 - val_loss: 0.1996 - val_accuracy: 0.9595\n",
      "Epoch 11/20\n",
      "100778/100778 [==============================] - 7s 74us/step - loss: 0.1898 - accuracy: 0.9610 - val_loss: 0.1860 - val_accuracy: 0.9617\n",
      "Epoch 12/20\n",
      "100778/100778 [==============================] - 7s 72us/step - loss: 0.1772 - accuracy: 0.9632 - val_loss: 0.1745 - val_accuracy: 0.9642\n",
      "Epoch 13/20\n",
      "100778/100778 [==============================] - 8s 75us/step - loss: 0.1665 - accuracy: 0.9649 - val_loss: 0.1646 - val_accuracy: 0.9657\n",
      "Epoch 14/20\n",
      "100778/100778 [==============================] - 8s 76us/step - loss: 0.1572 - accuracy: 0.9666 - val_loss: 0.1559 - val_accuracy: 0.9675\n",
      "Epoch 15/20\n",
      "100778/100778 [==============================] - 8s 75us/step - loss: 0.1491 - accuracy: 0.9679 - val_loss: 0.1483 - val_accuracy: 0.9680\n",
      "Epoch 16/20\n",
      "100778/100778 [==============================] - 8s 75us/step - loss: 0.1419 - accuracy: 0.9688 - val_loss: 0.1416 - val_accuracy: 0.9688\n",
      "Epoch 17/20\n",
      "100778/100778 [==============================] - 8s 80us/step - loss: 0.1355 - accuracy: 0.9698 - val_loss: 0.1355 - val_accuracy: 0.9696\n",
      "Epoch 18/20\n",
      "100778/100778 [==============================] - 8s 83us/step - loss: 0.1298 - accuracy: 0.9706 - val_loss: 0.1300 - val_accuracy: 0.9705\n",
      "Epoch 19/20\n",
      "100778/100778 [==============================] - 9s 86us/step - loss: 0.1246 - accuracy: 0.9713 - val_loss: 0.1250 - val_accuracy: 0.9711\n",
      "Epoch 20/20\n",
      "100778/100778 [==============================] - 8s 82us/step - loss: 0.1199 - accuracy: 0.9718 - val_loss: 0.1205 - val_accuracy: 0.9716\n"
     ]
    }
   ],
   "source": [
    "#Fit the model on our data.\n",
    "#X_train - The feature columns of the training data.\n",
    "#y_train - The labels columns of the training data.\n",
    "#validation_data - The validation data\n",
    "#batch_size and epochs further explained in document. \n",
    "history = model1.fit(X_train, y_train, \n",
    "          validation_data = (X_test, y_test),\n",
    "          batch_size = 32, \n",
    "          epochs = 20)"
   ]
  },
  {
   "cell_type": "code",
   "execution_count": 69,
   "metadata": {},
   "outputs": [
    {
     "data": {
      "text/plain": [
       "<matplotlib.legend.Legend at 0x27344ca1948>"
      ]
     },
     "execution_count": 69,
     "metadata": {},
     "output_type": "execute_result"
    },
    {
     "data": {
      "image/png": "[encoded data removed]",
      "text/plain": [
       "<Figure size 1080x288 with 2 Axes>"
      ]
     },
     "metadata": {
      "needs_background": "light"
     },
     "output_type": "display_data"
    }
   ],
   "source": [
    "#use matplitlib to draw the plots\n",
    "plt.figure(figsize = (15, 4))\n",
    "plt.subplot(1, 2, 1)\n",
    "plt.plot(history.history['loss'], label = \"TRAINING LOSS\")\n",
    "plt.plot(history.history['val_loss'], label = \"VALIDATION LOSS\")\n",
    "plt.title(\"TRAINING LOSS vs VALIDATION LOSS\")\n",
    "plt.xlabel(\"EPOCH'S\")\n",
    "plt.ylabel(\"TRAINING LOSS vs VALIDATION LOSS\")\n",
    "plt.legend(loc = \"best\")\n",
    "\n",
    "plt.subplot(1, 2, 2)\n",
    "plt.plot(history.history['accuracy'], label = \"TRAINING ACCURACY\")\n",
    "plt.plot(history.history['val_accuracy'], label = \"VALIDATION ACCURACY\")\n",
    "plt.title(\"TRAINING ACCURACY vs VALIDATION ACCURACY\")\n",
    "plt.xlabel(\"EPOCH'S\")\n",
    "plt.ylabel(\"TRAINING ACC vs VALIDATION ACCURACY\")\n",
    "plt.legend(loc = \"best\")"
   ]
  },
  {
   "cell_type": "markdown",
   "metadata": {},
   "source": [
    "Explained in Results section."
   ]
  },
  {
   "cell_type": "markdown",
   "metadata": {},
   "source": [
    "Load and save model 1:"
   ]
  },
  {
   "cell_type": "code",
   "execution_count": 70,
   "metadata": {},
   "outputs": [
    {
     "name": "stdout",
     "output_type": "stream",
     "text": [
      "Saved model to disk\n"
     ]
    }
   ],
   "source": [
    "#Serialize model 1 , save with json. \n",
    "model_json = model1.to_json() \n",
    "with open(\"model1.json\", \"w\") as json_file:\n",
    "    json_file.write(model_json)\n",
    "model1.save_weights('model1_weights.h5')\n",
    "print(\"Saved model to disk\")"
   ]
  },
  {
   "cell_type": "code",
   "execution_count": 71,
   "metadata": {},
   "outputs": [
    {
     "name": "stdout",
     "output_type": "stream",
     "text": [
      "Loaded model from disk\n"
     ]
    }
   ],
   "source": [
    "# load model 1. \n",
    "json_file = open(\"model1.json\", \"r\") \n",
    "loaded_model_json = json_file.read() \n",
    "json_file.close() \n",
    "loaded_model = model_from_json(loaded_model_json) \n",
    "loaded_model.load_weights(\"model1_weights.h5\")\n",
    "print(\"Loaded model from disk\")"
   ]
  },
  {
   "cell_type": "markdown",
   "metadata": {},
   "source": [
    "Model 2: "
   ]
  },
  {
   "cell_type": "markdown",
   "metadata": {},
   "source": [
    "Single Dense Hidden Layer with Output Layer"
   ]
  },
  {
   "cell_type": "code",
   "execution_count": 72,
   "metadata": {},
   "outputs": [],
   "source": [
    "model2 = Sequential()\n",
    "model2.add(Dense(32, input_dim = 120, activation = \"relu\", kernel_initializer = \"lecun_normal\"))\n",
    "model2.add(BatchNormalization())\n",
    "model2.add(Dropout(0.2))\n",
    "model2.add(Dense(32, activation = \"relu\"))\n",
    "model2.add(Dense(5, activation = \"softmax\"))"
   ]
  },
  {
   "cell_type": "code",
   "execution_count": 73,
   "metadata": {},
   "outputs": [
    {
     "name": "stdout",
     "output_type": "stream",
     "text": [
      "Model: \"sequential_4\"\n",
      "_________________________________________________________________\n",
      "Layer (type)                 Output Shape              Param #   \n",
      "=================================================================\n",
      "dense_10 (Dense)             (None, 32)                3872      \n",
      "_________________________________________________________________\n",
      "batch_normalization_2 (Batch (None, 32)                128       \n",
      "_________________________________________________________________\n",
      "dropout_2 (Dropout)          (None, 32)                0         \n",
      "_________________________________________________________________\n",
      "dense_11 (Dense)             (None, 32)                1056      \n",
      "_________________________________________________________________\n",
      "dense_12 (Dense)             (None, 5)                 165       \n",
      "=================================================================\n",
      "Total params: 5,221\n",
      "Trainable params: 5,157\n",
      "Non-trainable params: 64\n",
      "_________________________________________________________________\n"
     ]
    }
   ],
   "source": [
    "#List summary again \n",
    "model2.summary()"
   ]
  },
  {
   "cell_type": "code",
   "execution_count": 74,
   "metadata": {},
   "outputs": [],
   "source": [
    "#SGD used instead of Adam!\n",
    "optim2 = optimizers.Adam(lr = 0.0001)\n",
    "model2.compile(loss = 'categorical_crossentropy', optimizer = optim, metrics = ['accuracy'])"
   ]
  },
  {
   "cell_type": "code",
   "execution_count": 75,
   "metadata": {},
   "outputs": [
    {
     "name": "stdout",
     "output_type": "stream",
     "text": [
      "Train on 100778 samples, validate on 25195 samples\n",
      "Epoch 1/30\n",
      "100778/100778 [==============================] - 10s 99us/step - loss: 0.9216 - accuracy: 0.7588 - val_loss: 0.7884 - val_accuracy: 0.8401\n",
      "Epoch 2/30\n",
      "100778/100778 [==============================] - 9s 92us/step - loss: 0.6223 - accuracy: 0.8370 - val_loss: 0.5478 - val_accuracy: 0.8760\n",
      "Epoch 3/30\n",
      "100778/100778 [==============================] - 9s 92us/step - loss: 0.4801 - accuracy: 0.8743 - val_loss: 0.4451 - val_accuracy: 0.9213\n",
      "Epoch 4/30\n",
      "100778/100778 [==============================] - 9s 92us/step - loss: 0.3957 - accuracy: 0.8999 - val_loss: 0.3857 - val_accuracy: 0.9361\n",
      "Epoch 5/30\n",
      "100778/100778 [==============================] - 10s 98us/step - loss: 0.3372 - accuracy: 0.9173 - val_loss: 0.2976 - val_accuracy: 0.9472\n",
      "Epoch 6/30\n",
      "100778/100778 [==============================] - 10s 96us/step - loss: 0.2972 - accuracy: 0.9278 - val_loss: 0.2832 - val_accuracy: 0.9519\n",
      "Epoch 7/30\n",
      "100778/100778 [==============================] - 10s 96us/step - loss: 0.2669 - accuracy: 0.9351 - val_loss: 0.2470 - val_accuracy: 0.9551\n",
      "Epoch 8/30\n",
      "100778/100778 [==============================] - 9s 91us/step - loss: 0.2434 - accuracy: 0.9405 - val_loss: 0.2183 - val_accuracy: 0.9602\n",
      "Epoch 9/30\n",
      "100778/100778 [==============================] - 9s 90us/step - loss: 0.2239 - accuracy: 0.9444 - val_loss: 0.2003 - val_accuracy: 0.9621\n",
      "Epoch 10/30\n",
      "100778/100778 [==============================] - 9s 89us/step - loss: 0.2104 - accuracy: 0.9474 - val_loss: 0.1967 - val_accuracy: 0.9635\n",
      "Epoch 11/30\n",
      "100778/100778 [==============================] - 9s 91us/step - loss: 0.1967 - accuracy: 0.9499 - val_loss: 0.2052 - val_accuracy: 0.9651\n",
      "Epoch 12/30\n",
      "100778/100778 [==============================] - 9s 93us/step - loss: 0.1857 - accuracy: 0.9521 - val_loss: 0.1652 - val_accuracy: 0.9680\n",
      "Epoch 13/30\n",
      "100778/100778 [==============================] - 8s 82us/step - loss: 0.1772 - accuracy: 0.9540 - val_loss: 0.1549 - val_accuracy: 0.9705\n",
      "Epoch 14/30\n",
      "100778/100778 [==============================] - 8s 75us/step - loss: 0.1691 - accuracy: 0.9554 - val_loss: 0.1475 - val_accuracy: 0.9705\n",
      "Epoch 15/30\n",
      "100778/100778 [==============================] - 9s 91us/step - loss: 0.1602 - accuracy: 0.9574 - val_loss: 0.1384 - val_accuracy: 0.9706\n",
      "Epoch 16/30\n",
      "100778/100778 [==============================] - 9s 91us/step - loss: 0.1545 - accuracy: 0.9586 - val_loss: 0.1613 - val_accuracy: 0.9700\n",
      "Epoch 17/30\n",
      "100778/100778 [==============================] - 9s 90us/step - loss: 0.1482 - accuracy: 0.9607 - val_loss: 0.1376 - val_accuracy: 0.9703\n",
      "Epoch 18/30\n",
      "100778/100778 [==============================] - 9s 90us/step - loss: 0.1434 - accuracy: 0.9606 - val_loss: 0.1295 - val_accuracy: 0.9713\n",
      "Epoch 19/30\n",
      "100778/100778 [==============================] - 9s 89us/step - loss: 0.1374 - accuracy: 0.9619 - val_loss: 0.1256 - val_accuracy: 0.9720\n",
      "Epoch 20/30\n",
      "100778/100778 [==============================] - 9s 86us/step - loss: 0.1332 - accuracy: 0.9631 - val_loss: 0.1137 - val_accuracy: 0.9713\n",
      "Epoch 21/30\n",
      "100778/100778 [==============================] - 9s 89us/step - loss: 0.1294 - accuracy: 0.9642 - val_loss: 0.1367 - val_accuracy: 0.9723\n",
      "Epoch 22/30\n",
      "100778/100778 [==============================] - 9s 93us/step - loss: 0.1247 - accuracy: 0.9647 - val_loss: 0.1057 - val_accuracy: 0.9720\n",
      "Epoch 23/30\n",
      "100778/100778 [==============================] - 10s 98us/step - loss: 0.1210 - accuracy: 0.9661 - val_loss: 0.1090 - val_accuracy: 0.9723\n",
      "Epoch 24/30\n",
      "100778/100778 [==============================] - 10s 95us/step - loss: 0.1176 - accuracy: 0.9667 - val_loss: 0.0998 - val_accuracy: 0.9736\n",
      "Epoch 25/30\n",
      "100778/100778 [==============================] - 10s 97us/step - loss: 0.1152 - accuracy: 0.9671 - val_loss: 0.0944 - val_accuracy: 0.9742\n",
      "Epoch 26/30\n",
      "100778/100778 [==============================] - 10s 98us/step - loss: 0.1129 - accuracy: 0.9677 - val_loss: 0.0930 - val_accuracy: 0.9742\n",
      "Epoch 27/30\n",
      "100778/100778 [==============================] - 10s 94us/step - loss: 0.1096 - accuracy: 0.9686 - val_loss: 0.0942 - val_accuracy: 0.9748\n",
      "Epoch 28/30\n",
      "100778/100778 [==============================] - 10s 99us/step - loss: 0.1072 - accuracy: 0.9696 - val_loss: 0.0895 - val_accuracy: 0.9775\n",
      "Epoch 29/30\n",
      "100778/100778 [==============================] - 9s 94us/step - loss: 0.1048 - accuracy: 0.9696 - val_loss: 0.0872 - val_accuracy: 0.9778\n",
      "Epoch 30/30\n",
      "100778/100778 [==============================] - 10s 96us/step - loss: 0.1018 - accuracy: 0.9710 - val_loss: 0.0845 - val_accuracy: 0.9782\n"
     ]
    }
   ],
   "source": [
    "#Train model and validate. \n",
    "history2 = model2.fit(X_train, y_train, \n",
    "           batch_size = 32, \n",
    "           epochs = 30, \n",
    "           validation_data = (X_test, y_test))"
   ]
  },
  {
   "cell_type": "code",
   "execution_count": 76,
   "metadata": {
    "scrolled": false
   },
   "outputs": [
    {
     "data": {
      "text/plain": [
       "<matplotlib.legend.Legend at 0x27344302e88>"
      ]
     },
     "execution_count": 76,
     "metadata": {},
     "output_type": "execute_result"
    },
    {
     "data": {
      "image/png": "[encoded data removed]",
      "text/plain": [
       "<Figure size 1080x288 with 2 Axes>"
      ]
     },
     "metadata": {
      "needs_background": "light"
     },
     "output_type": "display_data"
    }
   ],
   "source": [
    "plt.figure(figsize = (15, 4))\n",
    "plt.subplot(1, 2, 1) \n",
    "plt.plot(history2.history['loss'], label = \"TRAINING LOSS\") \n",
    "plt.plot(history2.history['val_loss'], label = \"VALIDATION LOSS\") \n",
    "plt.title(\"TRAINING LOSS vs VALIDATION LOSS\")\n",
    "plt.xlabel(\"EPOCH'S\") \n",
    "plt.ylabel(\"TRAINING ACC vs VALIDATION LOSS\") \n",
    "plt.legend(loc = \"best\") \n",
    "\n",
    "plt.subplot(1, 2, 2)\n",
    "plt.plot(history2.history['accuracy'], label = \"TRAINING ACCURACY\") \n",
    "plt.plot(history2.history['val_accuracy'], label = \"VALIDATION ACCURACY\") \n",
    "plt.title(\"TRAINING ACCURACY vs VALIDATION ACCURACY\") \n",
    "plt.xlabel(\"EPOCH'S\") \n",
    "plt.ylabel(\"TRAINING ACC vs VALIDATION ACCURACY\") \n",
    "plt.legend(loc = \"best\") "
   ]
  },
  {
   "cell_type": "markdown",
   "metadata": {},
   "source": [
    "Explained in results section. "
   ]
  },
  {
   "cell_type": "code",
   "execution_count": 77,
   "metadata": {},
   "outputs": [],
   "source": [
    "from sklearn.tree import DecisionTreeClassifier\n",
    "model3 = DecisionTreeClassifier()\n",
    "model3.fit(X_train, y_train)\n",
    "y_pred = model3.predict(X_test) # prediksi"
   ]
  },
  {
   "cell_type": "code",
   "execution_count": 78,
   "metadata": {
    "scrolled": true
   },
   "outputs": [
    {
     "data": {
      "text/plain": [
       "array([[ 9277,     0,     4,     0,     0],\n",
       "       [    1, 13367,     8,     2,     1],\n",
       "       [    2,     6,  2325,     0,     0],\n",
       "       [    0,     5,     0,   183,     1],\n",
       "       [    0,     3,     1,     1,     8]], dtype=int64)"
      ]
     },
     "execution_count": 78,
     "metadata": {},
     "output_type": "execute_result"
    }
   ],
   "source": [
    "# Evaluasi Model menggunakan Confusion Matrix\n",
    "\n",
    "from sklearn.metrics import confusion_matrix\n",
    "confusion_matrix(y_test.values.argmax(axis=1), y_pred.argmax(axis=1))\n"
   ]
  },
  {
   "cell_type": "code",
   "execution_count": 79,
   "metadata": {},
   "outputs": [
    {
     "data": {
      "image/png": "[encoded data removed]",
      "text/plain": [
       "<Figure size 576x360 with 2 Axes>"
      ]
     },
     "metadata": {
      "needs_background": "light"
     },
     "output_type": "display_data"
    }
   ],
   "source": [
    "# memvisualisasikan confusion matrix \n",
    "\n",
    "# Install seabornhttp://localhost:8888/notebooks/Deep-Learning-Based-Intrusion-Detection-NSL-KDD/UAS_IDS%2BConfusion%20Matrix-Kumpulin.ipynb#\n",
    "# !conda install -c anaconda seaborn -y \n",
    "\n",
    "import seaborn as sns\n",
    "import matplotlib.pyplot as plt\n",
    "f, ax = plt.subplots(figsize=(8,5))\n",
    "sns.heatmap(confusion_matrix(y_test.values.argmax(axis=1), y_pred.argmax(axis=1)), annot=True, fmt=\".0f\", ax=ax, cmap=plt.cm.Blues)\n",
    "plt.tight_layout()\n",
    "plt.xlabel(\"Predicted\")\n",
    "plt.ylabel(\"Actual\")\n",
    "plt.show()"
   ]
  },
  {
   "cell_type": "code",
   "execution_count": 80,
   "metadata": {},
   "outputs": [
    {
     "name": "stdout",
     "output_type": "stream",
     "text": [
      "              precision    recall  f1-score   support\n",
      "\n",
      "           0       1.00      1.00      1.00      9281\n",
      "           1       1.00      1.00      1.00     13379\n",
      "           2       0.99      1.00      1.00      2333\n",
      "           3       0.98      0.97      0.98       189\n",
      "           4       0.80      0.62      0.70        13\n",
      "\n",
      "   micro avg       1.00      1.00      1.00     25195\n",
      "   macro avg       0.96      0.92      0.93     25195\n",
      "weighted avg       1.00      1.00      1.00     25195\n",
      " samples avg       1.00      1.00      1.00     25195\n",
      "\n"
     ]
    }
   ],
   "source": [
    "# Dari confusion matrix kita dapat mengetahui keakuratan dari model yang dibuat\n",
    "# dgn melihat performance metrics seperti: accuracy, recall, dan precision\n",
    "\n",
    "from sklearn.metrics import classification_report\n",
    "print (classification_report(y_test, y_pred))"
   ]
  },
  {
   "cell_type": "code",
   "execution_count": null,
   "metadata": {},
   "outputs": [],
   "source": []
  }
 ],
 "metadata": {
  "kernelspec": {
   "display_name": "Python 3",
   "language": "python",
   "name": "python3"
  },
  "language_info": {
   "codemirror_mode": {
    "name": "ipython",
    "version": 3
   },
   "file_extension": ".py",
   "mimetype": "text/x-python",
   "name": "python",
   "nbconvert_exporter": "python",
   "pygments_lexer": "ipython3",
   "version": "3.7.6"
  }
 },
 "nbformat": 4,
 "nbformat_minor": 2
}
