{
 "cells": [
  {
   "cell_type": "markdown",
   "metadata": {},
   "source": [
    "## IMPORTING THE REQUIRED LIBRARIES"
   ]
  },
  {
   "cell_type": "code",
   "execution_count": 2,
   "metadata": {},
   "outputs": [
    {
     "name": "stderr",
     "output_type": "stream",
     "text": [
      "Using TensorFlow backend.\n"
     ]
    }
   ],
   "source": [
    "#Make sure all the following libraries are installed before running the application. \n",
    "import pandas as pd\n",
    "import numpy as np\n",
    "import sklearn\n",
    "from sklearn.utils import shuffle\n",
    "from sklearn.metrics import *\n",
    "from sklearn.preprocessing import StandardScaler\n",
    "from sklearn.model_selection import train_test_split\n",
    "from sklearn.preprocessing import LabelEncoder\n",
    "import matplotlib.pyplot as plt\n",
    "import warnings\n",
    "\n",
    "from keras.preprocessing import sequence\n",
    "from keras import optimizers\n",
    "from keras.utils import np_utils\n",
    "from keras.models import Sequential\n",
    "from keras.layers import Dense, Dropout, Activation, Embedding, SimpleRNN, BatchNormalization\n",
    "from keras.models import model_from_json\n",
    "\n",
    "warnings.filterwarnings(\"ignore\")\n",
    "%matplotlib inline\n",
    "\n"
   ]
  },
  {
   "cell_type": "markdown",
   "metadata": {},
   "source": [
    "## LOADING TRAINING AND TESTING DATA"
   ]
  },
  {
   "cell_type": "code",
   "execution_count": 3,
   "metadata": {},
   "outputs": [],
   "source": [
    "#memasukan tabel dalam file .csv sebagai header di training data\n",
    "\n",
    "#load the csv file containing the column names \n",
    "column_name = pd.read_csv(\"Field Names.csv\", header = None)"
   ]
  },
  {
   "cell_type": "code",
   "execution_count": 4,
   "metadata": {},
   "outputs": [],
   "source": [
    "#mengubah baris yg ada di file .csv sebagai msg2 kolom baru\n",
    "\n",
    "#Convert the array into list\n",
    "new_columns = list(column_name[0].values)"
   ]
  },
  {
   "cell_type": "code",
   "execution_count": 5,
   "metadata": {},
   "outputs": [],
   "source": [
    "#menambah kolom kelas dan kesulitan\n",
    "\n",
    "#adding difficulty \n",
    "new_columns += ['class', 'difficulty']"
   ]
  },
  {
   "cell_type": "code",
   "execution_count": 6,
   "metadata": {},
   "outputs": [],
   "source": [
    "#loading train and test data files\n",
    "train_data = pd.read_csv('KDDTrain+.txt', names = new_columns)\n",
    "test_data = pd.read_csv('KDDTest+.txt', names = new_columns)"
   ]
  },
  {
   "cell_type": "code",
   "execution_count": 7,
   "metadata": {
    "scrolled": false
   },
   "outputs": [
    {
     "name": "stdout",
     "output_type": "stream",
     "text": [
      "The training data is\n"
     ]
    },
    {
     "data": {
      "text/html": [
       "<div>\n",
       "<style scoped>\n",
       "    .dataframe tbody tr th:only-of-type {\n",
       "        vertical-align: middle;\n",
       "    }\n",
       "\n",
       "    .dataframe tbody tr th {\n",
       "        vertical-align: top;\n",
       "    }\n",
       "\n",
       "    .dataframe thead th {\n",
       "        text-align: right;\n",
       "    }\n",
       "</style>\n",
       "<table border=\"1\" class=\"dataframe\">\n",
       "  <thead>\n",
       "    <tr style=\"text-align: right;\">\n",
       "      <th></th>\n",
       "      <th>duration</th>\n",
       "      <th>protocol_type</th>\n",
       "      <th>service</th>\n",
       "      <th>flag</th>\n",
       "      <th>src_bytes</th>\n",
       "      <th>dst_bytes</th>\n",
       "      <th>land</th>\n",
       "      <th>wrong_fragment</th>\n",
       "      <th>urgent</th>\n",
       "      <th>hot</th>\n",
       "      <th>...</th>\n",
       "      <th>dst_host_same_srv_rate</th>\n",
       "      <th>dst_host_diff_srv_rate</th>\n",
       "      <th>dst_host_same_src_port_rate</th>\n",
       "      <th>dst_host_srv_diff_host_rate</th>\n",
       "      <th>dst_host_serror_rate</th>\n",
       "      <th>dst_host_srv_serror_rate</th>\n",
       "      <th>dst_host_rerror_rate</th>\n",
       "      <th>dst_host_srv_rerror_rate</th>\n",
       "      <th>class</th>\n",
       "      <th>difficulty</th>\n",
       "    </tr>\n",
       "  </thead>\n",
       "  <tbody>\n",
       "    <tr>\n",
       "      <th>125968</th>\n",
       "      <td>0</td>\n",
       "      <td>tcp</td>\n",
       "      <td>private</td>\n",
       "      <td>S0</td>\n",
       "      <td>0</td>\n",
       "      <td>0</td>\n",
       "      <td>0</td>\n",
       "      <td>0</td>\n",
       "      <td>0</td>\n",
       "      <td>0</td>\n",
       "      <td>...</td>\n",
       "      <td>0.10</td>\n",
       "      <td>0.06</td>\n",
       "      <td>0.00</td>\n",
       "      <td>0.0</td>\n",
       "      <td>1.00</td>\n",
       "      <td>1.0</td>\n",
       "      <td>0.00</td>\n",
       "      <td>0.0</td>\n",
       "      <td>neptune</td>\n",
       "      <td>20</td>\n",
       "    </tr>\n",
       "    <tr>\n",
       "      <th>125969</th>\n",
       "      <td>8</td>\n",
       "      <td>udp</td>\n",
       "      <td>private</td>\n",
       "      <td>SF</td>\n",
       "      <td>105</td>\n",
       "      <td>145</td>\n",
       "      <td>0</td>\n",
       "      <td>0</td>\n",
       "      <td>0</td>\n",
       "      <td>0</td>\n",
       "      <td>...</td>\n",
       "      <td>0.96</td>\n",
       "      <td>0.01</td>\n",
       "      <td>0.01</td>\n",
       "      <td>0.0</td>\n",
       "      <td>0.00</td>\n",
       "      <td>0.0</td>\n",
       "      <td>0.00</td>\n",
       "      <td>0.0</td>\n",
       "      <td>normal</td>\n",
       "      <td>21</td>\n",
       "    </tr>\n",
       "    <tr>\n",
       "      <th>125970</th>\n",
       "      <td>0</td>\n",
       "      <td>tcp</td>\n",
       "      <td>smtp</td>\n",
       "      <td>SF</td>\n",
       "      <td>2231</td>\n",
       "      <td>384</td>\n",
       "      <td>0</td>\n",
       "      <td>0</td>\n",
       "      <td>0</td>\n",
       "      <td>0</td>\n",
       "      <td>...</td>\n",
       "      <td>0.12</td>\n",
       "      <td>0.06</td>\n",
       "      <td>0.00</td>\n",
       "      <td>0.0</td>\n",
       "      <td>0.72</td>\n",
       "      <td>0.0</td>\n",
       "      <td>0.01</td>\n",
       "      <td>0.0</td>\n",
       "      <td>normal</td>\n",
       "      <td>18</td>\n",
       "    </tr>\n",
       "    <tr>\n",
       "      <th>125971</th>\n",
       "      <td>0</td>\n",
       "      <td>tcp</td>\n",
       "      <td>klogin</td>\n",
       "      <td>S0</td>\n",
       "      <td>0</td>\n",
       "      <td>0</td>\n",
       "      <td>0</td>\n",
       "      <td>0</td>\n",
       "      <td>0</td>\n",
       "      <td>0</td>\n",
       "      <td>...</td>\n",
       "      <td>0.03</td>\n",
       "      <td>0.05</td>\n",
       "      <td>0.00</td>\n",
       "      <td>0.0</td>\n",
       "      <td>1.00</td>\n",
       "      <td>1.0</td>\n",
       "      <td>0.00</td>\n",
       "      <td>0.0</td>\n",
       "      <td>neptune</td>\n",
       "      <td>20</td>\n",
       "    </tr>\n",
       "    <tr>\n",
       "      <th>125972</th>\n",
       "      <td>0</td>\n",
       "      <td>tcp</td>\n",
       "      <td>ftp_data</td>\n",
       "      <td>SF</td>\n",
       "      <td>151</td>\n",
       "      <td>0</td>\n",
       "      <td>0</td>\n",
       "      <td>0</td>\n",
       "      <td>0</td>\n",
       "      <td>0</td>\n",
       "      <td>...</td>\n",
       "      <td>0.30</td>\n",
       "      <td>0.03</td>\n",
       "      <td>0.30</td>\n",
       "      <td>0.0</td>\n",
       "      <td>0.00</td>\n",
       "      <td>0.0</td>\n",
       "      <td>0.00</td>\n",
       "      <td>0.0</td>\n",
       "      <td>normal</td>\n",
       "      <td>21</td>\n",
       "    </tr>\n",
       "  </tbody>\n",
       "</table>\n",
       "<p>5 rows × 43 columns</p>\n",
       "</div>"
      ],
      "text/plain": [
       "        duration protocol_type   service flag  src_bytes  dst_bytes  land  \\\n",
       "125968         0           tcp   private   S0          0          0     0   \n",
       "125969         8           udp   private   SF        105        145     0   \n",
       "125970         0           tcp      smtp   SF       2231        384     0   \n",
       "125971         0           tcp    klogin   S0          0          0     0   \n",
       "125972         0           tcp  ftp_data   SF        151          0     0   \n",
       "\n",
       "        wrong_fragment  urgent  hot  ...  dst_host_same_srv_rate  \\\n",
       "125968               0       0    0  ...                    0.10   \n",
       "125969               0       0    0  ...                    0.96   \n",
       "125970               0       0    0  ...                    0.12   \n",
       "125971               0       0    0  ...                    0.03   \n",
       "125972               0       0    0  ...                    0.30   \n",
       "\n",
       "        dst_host_diff_srv_rate  dst_host_same_src_port_rate  \\\n",
       "125968                    0.06                         0.00   \n",
       "125969                    0.01                         0.01   \n",
       "125970                    0.06                         0.00   \n",
       "125971                    0.05                         0.00   \n",
       "125972                    0.03                         0.30   \n",
       "\n",
       "        dst_host_srv_diff_host_rate  dst_host_serror_rate  \\\n",
       "125968                          0.0                  1.00   \n",
       "125969                          0.0                  0.00   \n",
       "125970                          0.0                  0.72   \n",
       "125971                          0.0                  1.00   \n",
       "125972                          0.0                  0.00   \n",
       "\n",
       "        dst_host_srv_serror_rate  dst_host_rerror_rate  \\\n",
       "125968                       1.0                  0.00   \n",
       "125969                       0.0                  0.00   \n",
       "125970                       0.0                  0.01   \n",
       "125971                       1.0                  0.00   \n",
       "125972                       0.0                  0.00   \n",
       "\n",
       "        dst_host_srv_rerror_rate    class  difficulty  \n",
       "125968                       0.0  neptune          20  \n",
       "125969                       0.0   normal          21  \n",
       "125970                       0.0   normal          18  \n",
       "125971                       0.0  neptune          20  \n",
       "125972                       0.0   normal          21  \n",
       "\n",
       "[5 rows x 43 columns]"
      ]
     },
     "execution_count": 7,
     "metadata": {},
     "output_type": "execute_result"
    }
   ],
   "source": [
    "#Training data sample\n",
    "print(\"The training data is\")\n",
    "train_data.tail()"
   ]
  },
  {
   "cell_type": "code",
   "execution_count": 8,
   "metadata": {},
   "outputs": [
    {
     "name": "stdout",
     "output_type": "stream",
     "text": [
      "The shape of the training dataframe is : (125973, 43)\n"
     ]
    }
   ],
   "source": [
    "#Output total rows and columns of dataframe\n",
    "print(f\"The shape of the training dataframe is : {train_data.shape}\")"
   ]
  },
  {
   "cell_type": "code",
   "execution_count": 9,
   "metadata": {},
   "outputs": [
    {
     "name": "stdout",
     "output_type": "stream",
     "text": [
      "The testing data is\n"
     ]
    },
    {
     "data": {
      "text/html": [
       "<div>\n",
       "<style scoped>\n",
       "    .dataframe tbody tr th:only-of-type {\n",
       "        vertical-align: middle;\n",
       "    }\n",
       "\n",
       "    .dataframe tbody tr th {\n",
       "        vertical-align: top;\n",
       "    }\n",
       "\n",
       "    .dataframe thead th {\n",
       "        text-align: right;\n",
       "    }\n",
       "</style>\n",
       "<table border=\"1\" class=\"dataframe\">\n",
       "  <thead>\n",
       "    <tr style=\"text-align: right;\">\n",
       "      <th></th>\n",
       "      <th>duration</th>\n",
       "      <th>protocol_type</th>\n",
       "      <th>service</th>\n",
       "      <th>flag</th>\n",
       "      <th>src_bytes</th>\n",
       "      <th>dst_bytes</th>\n",
       "      <th>land</th>\n",
       "      <th>wrong_fragment</th>\n",
       "      <th>urgent</th>\n",
       "      <th>hot</th>\n",
       "      <th>...</th>\n",
       "      <th>dst_host_same_srv_rate</th>\n",
       "      <th>dst_host_diff_srv_rate</th>\n",
       "      <th>dst_host_same_src_port_rate</th>\n",
       "      <th>dst_host_srv_diff_host_rate</th>\n",
       "      <th>dst_host_serror_rate</th>\n",
       "      <th>dst_host_srv_serror_rate</th>\n",
       "      <th>dst_host_rerror_rate</th>\n",
       "      <th>dst_host_srv_rerror_rate</th>\n",
       "      <th>class</th>\n",
       "      <th>difficulty</th>\n",
       "    </tr>\n",
       "  </thead>\n",
       "  <tbody>\n",
       "    <tr>\n",
       "      <th>0</th>\n",
       "      <td>0</td>\n",
       "      <td>tcp</td>\n",
       "      <td>private</td>\n",
       "      <td>REJ</td>\n",
       "      <td>0</td>\n",
       "      <td>0</td>\n",
       "      <td>0</td>\n",
       "      <td>0</td>\n",
       "      <td>0</td>\n",
       "      <td>0</td>\n",
       "      <td>...</td>\n",
       "      <td>0.04</td>\n",
       "      <td>0.06</td>\n",
       "      <td>0.00</td>\n",
       "      <td>0.00</td>\n",
       "      <td>0.0</td>\n",
       "      <td>0.0</td>\n",
       "      <td>1.00</td>\n",
       "      <td>1.00</td>\n",
       "      <td>neptune</td>\n",
       "      <td>21</td>\n",
       "    </tr>\n",
       "    <tr>\n",
       "      <th>1</th>\n",
       "      <td>0</td>\n",
       "      <td>tcp</td>\n",
       "      <td>private</td>\n",
       "      <td>REJ</td>\n",
       "      <td>0</td>\n",
       "      <td>0</td>\n",
       "      <td>0</td>\n",
       "      <td>0</td>\n",
       "      <td>0</td>\n",
       "      <td>0</td>\n",
       "      <td>...</td>\n",
       "      <td>0.00</td>\n",
       "      <td>0.06</td>\n",
       "      <td>0.00</td>\n",
       "      <td>0.00</td>\n",
       "      <td>0.0</td>\n",
       "      <td>0.0</td>\n",
       "      <td>1.00</td>\n",
       "      <td>1.00</td>\n",
       "      <td>neptune</td>\n",
       "      <td>21</td>\n",
       "    </tr>\n",
       "    <tr>\n",
       "      <th>2</th>\n",
       "      <td>2</td>\n",
       "      <td>tcp</td>\n",
       "      <td>ftp_data</td>\n",
       "      <td>SF</td>\n",
       "      <td>12983</td>\n",
       "      <td>0</td>\n",
       "      <td>0</td>\n",
       "      <td>0</td>\n",
       "      <td>0</td>\n",
       "      <td>0</td>\n",
       "      <td>...</td>\n",
       "      <td>0.61</td>\n",
       "      <td>0.04</td>\n",
       "      <td>0.61</td>\n",
       "      <td>0.02</td>\n",
       "      <td>0.0</td>\n",
       "      <td>0.0</td>\n",
       "      <td>0.00</td>\n",
       "      <td>0.00</td>\n",
       "      <td>normal</td>\n",
       "      <td>21</td>\n",
       "    </tr>\n",
       "    <tr>\n",
       "      <th>3</th>\n",
       "      <td>0</td>\n",
       "      <td>icmp</td>\n",
       "      <td>eco_i</td>\n",
       "      <td>SF</td>\n",
       "      <td>20</td>\n",
       "      <td>0</td>\n",
       "      <td>0</td>\n",
       "      <td>0</td>\n",
       "      <td>0</td>\n",
       "      <td>0</td>\n",
       "      <td>...</td>\n",
       "      <td>1.00</td>\n",
       "      <td>0.00</td>\n",
       "      <td>1.00</td>\n",
       "      <td>0.28</td>\n",
       "      <td>0.0</td>\n",
       "      <td>0.0</td>\n",
       "      <td>0.00</td>\n",
       "      <td>0.00</td>\n",
       "      <td>saint</td>\n",
       "      <td>15</td>\n",
       "    </tr>\n",
       "    <tr>\n",
       "      <th>4</th>\n",
       "      <td>1</td>\n",
       "      <td>tcp</td>\n",
       "      <td>telnet</td>\n",
       "      <td>RSTO</td>\n",
       "      <td>0</td>\n",
       "      <td>15</td>\n",
       "      <td>0</td>\n",
       "      <td>0</td>\n",
       "      <td>0</td>\n",
       "      <td>0</td>\n",
       "      <td>...</td>\n",
       "      <td>0.31</td>\n",
       "      <td>0.17</td>\n",
       "      <td>0.03</td>\n",
       "      <td>0.02</td>\n",
       "      <td>0.0</td>\n",
       "      <td>0.0</td>\n",
       "      <td>0.83</td>\n",
       "      <td>0.71</td>\n",
       "      <td>mscan</td>\n",
       "      <td>11</td>\n",
       "    </tr>\n",
       "  </tbody>\n",
       "</table>\n",
       "<p>5 rows × 43 columns</p>\n",
       "</div>"
      ],
      "text/plain": [
       "   duration protocol_type   service  flag  src_bytes  dst_bytes  land  \\\n",
       "0         0           tcp   private   REJ          0          0     0   \n",
       "1         0           tcp   private   REJ          0          0     0   \n",
       "2         2           tcp  ftp_data    SF      12983          0     0   \n",
       "3         0          icmp     eco_i    SF         20          0     0   \n",
       "4         1           tcp    telnet  RSTO          0         15     0   \n",
       "\n",
       "   wrong_fragment  urgent  hot  ...  dst_host_same_srv_rate  \\\n",
       "0               0       0    0  ...                    0.04   \n",
       "1               0       0    0  ...                    0.00   \n",
       "2               0       0    0  ...                    0.61   \n",
       "3               0       0    0  ...                    1.00   \n",
       "4               0       0    0  ...                    0.31   \n",
       "\n",
       "   dst_host_diff_srv_rate  dst_host_same_src_port_rate  \\\n",
       "0                    0.06                         0.00   \n",
       "1                    0.06                         0.00   \n",
       "2                    0.04                         0.61   \n",
       "3                    0.00                         1.00   \n",
       "4                    0.17                         0.03   \n",
       "\n",
       "   dst_host_srv_diff_host_rate  dst_host_serror_rate  \\\n",
       "0                         0.00                   0.0   \n",
       "1                         0.00                   0.0   \n",
       "2                         0.02                   0.0   \n",
       "3                         0.28                   0.0   \n",
       "4                         0.02                   0.0   \n",
       "\n",
       "   dst_host_srv_serror_rate  dst_host_rerror_rate  dst_host_srv_rerror_rate  \\\n",
       "0                       0.0                  1.00                      1.00   \n",
       "1                       0.0                  1.00                      1.00   \n",
       "2                       0.0                  0.00                      0.00   \n",
       "3                       0.0                  0.00                      0.00   \n",
       "4                       0.0                  0.83                      0.71   \n",
       "\n",
       "     class  difficulty  \n",
       "0  neptune          21  \n",
       "1  neptune          21  \n",
       "2   normal          21  \n",
       "3    saint          15  \n",
       "4    mscan          11  \n",
       "\n",
       "[5 rows x 43 columns]"
      ]
     },
     "execution_count": 9,
     "metadata": {},
     "output_type": "execute_result"
    }
   ],
   "source": [
    "#Same for testing\n",
    "print(\"The testing data is\")\n",
    "test_data.head()"
   ]
  },
  {
   "cell_type": "code",
   "execution_count": 10,
   "metadata": {},
   "outputs": [
    {
     "name": "stdout",
     "output_type": "stream",
     "text": [
      "The shape of the testing dataframe is : (22544, 43)\n"
     ]
    }
   ],
   "source": [
    "#Idem dito ^\n",
    "print(f\"The shape of the testing dataframe is : {test_data.shape}\")"
   ]
  },
  {
   "cell_type": "code",
   "execution_count": 11,
   "metadata": {},
   "outputs": [],
   "source": [
    "#Load attacks.txt containing the attack categories\n",
    "map_attacks = [x.strip().split() for x in open('attacks.txt', 'r')]\n",
    "map_attacks = {k:v for (k,v) in map_attacks}"
   ]
  },
  {
   "cell_type": "code",
   "execution_count": 12,
   "metadata": {},
   "outputs": [],
   "source": [
    "#Replace the \"class\" column values to 5 attack categories in training and testing dataframe\n",
    "train_data['class'] = train_data['class'].replace(map_attacks)\n",
    "test_data['class'] = test_data['class'].replace(map_attacks)"
   ]
  },
  {
   "cell_type": "code",
   "execution_count": 13,
   "metadata": {},
   "outputs": [],
   "source": [
    "train_data = shuffle(train_data)"
   ]
  },
  {
   "cell_type": "markdown",
   "metadata": {},
   "source": [
    "## DATA PREPROCESSING"
   ]
  },
  {
   "cell_type": "code",
   "execution_count": 14,
   "metadata": {},
   "outputs": [],
   "source": [
    "#separate the training dataframe into feature columns and label columns\n",
    "X = train_data.drop('class', axis = 1) #Independent features\n",
    "y = train_data['class'] #Dependent features (Labels)"
   ]
  },
  {
   "cell_type": "code",
   "execution_count": 15,
   "metadata": {},
   "outputs": [],
   "source": [
    "#Converting String to Integer with get_dummies by pandas\n",
    "columns = ['protocol_type', 'service', 'flag']\n",
    "X_new = pd.get_dummies(X, columns = columns, drop_first = True)"
   ]
  },
  {
   "cell_type": "code",
   "execution_count": 16,
   "metadata": {},
   "outputs": [],
   "source": [
    "#Idem dito for class ^\n",
    "y_new = train_data['class']\n",
    "y_new = pd.get_dummies(y_new)"
   ]
  },
  {
   "cell_type": "code",
   "execution_count": 17,
   "metadata": {},
   "outputs": [],
   "source": [
    "#Split data: 80% training and 20% testing \n",
    "X_train, X_test, y_train, y_test = train_test_split(X_new, y_new, test_size = 0.2, random_state = 101)"
   ]
  },
  {
   "cell_type": "code",
   "execution_count": 18,
   "metadata": {},
   "outputs": [],
   "source": [
    "#Use StandardScaler() to standardize data - explained in Honours Project\n",
    "sc = StandardScaler()\n",
    "sc.fit(np.array(X_train))\n",
    "X_train = sc.transform(X_train)\n",
    "X_test = sc.transform(X_test)"
   ]
  },
  {
   "cell_type": "markdown",
   "metadata": {},
   "source": [
    "MODEL 1: "
   ]
  },
  {
   "cell_type": "markdown",
   "metadata": {},
   "source": [
    "First model. This model contains all the dense layers. In dense layers each node or neuron in a layer is connected to all the nodes/neurons in the preceding layer, further explained in Honours Document. "
   ]
  },
  {
   "cell_type": "code",
   "execution_count": 19,
   "metadata": {},
   "outputs": [],
   "source": [
    "#Use the keras's sequential API \n",
    "#First dense layer takes an input parameter as 256 (number of neurons in the first layer).\n",
    "#The second parameter \"input_dim\" corresponds to the input features. \n",
    "#Use \"relu\" as activation function.\n",
    "#The activation function for last dense layer is \"softmax\" because of the multiple classes, further explained in document.\n",
    "#Set dropout for 10%. \n",
    "model1 = Sequential()\n",
    "model1.add(Dense(64, input_dim = 120, activation = \"relu\", kernel_initializer = \"lecun_normal\"))\n",
    "model1.add(Dense(128, activation = \"relu\"))\n",
    "model1.add(Dense(5, activation = \"softmax\"))"
   ]
  },
  {
   "cell_type": "code",
   "execution_count": 20,
   "metadata": {
    "scrolled": false
   },
   "outputs": [
    {
     "name": "stdout",
     "output_type": "stream",
     "text": [
      "Model: \"sequential_1\"\n",
      "_________________________________________________________________\n",
      "Layer (type)                 Output Shape              Param #   \n",
      "=================================================================\n",
      "dense_1 (Dense)              (None, 64)                7744      \n",
      "_________________________________________________________________\n",
      "dense_2 (Dense)              (None, 128)               8320      \n",
      "_________________________________________________________________\n",
      "dense_3 (Dense)              (None, 5)                 645       \n",
      "=================================================================\n",
      "Total params: 16,709\n",
      "Trainable params: 16,709\n",
      "Non-trainable params: 0\n",
      "_________________________________________________________________\n"
     ]
    }
   ],
   "source": [
    "#Summary of model architecture listing information about parameters per layer. \n",
    "model1.summary()"
   ]
  },
  {
   "cell_type": "code",
   "execution_count": 21,
   "metadata": {},
   "outputs": [],
   "source": [
    "#Three paramaters: \n",
    "#Loss - The loss function.\n",
    "#Optimizer - To minimize the loss function.\n",
    "#Metrics - The mode of evaluation for our model.\n",
    "#\"categorical_loss\" - is used because of the multi-class classifcation problem.\n",
    "#\"adam\" - The updated version of SGD.\n",
    "optim = optimizers.SGD(lr = 0.0001)\n",
    "model1.compile(loss = 'categorical_crossentropy', optimizer = optim, metrics = ['accuracy'])"
   ]
  },
  {
   "cell_type": "code",
   "execution_count": 22,
   "metadata": {},
   "outputs": [
    {
     "name": "stdout",
     "output_type": "stream",
     "text": [
      "Train on 100778 samples, validate on 25195 samples\n",
      "Epoch 1/20\n",
      "100778/100778 [==============================] - 9s 87us/step - loss: 1.3260 - accuracy: 0.5413 - val_loss: 1.0414 - val_accuracy: 0.8047\n",
      "Epoch 2/20\n",
      "100778/100778 [==============================] - 8s 83us/step - loss: 0.8647 - accuracy: 0.8534 - val_loss: 0.7064 - val_accuracy: 0.8837\n",
      "Epoch 3/20\n",
      "100778/100778 [==============================] - 9s 86us/step - loss: 0.6066 - accuracy: 0.8973 - val_loss: 0.5129 - val_accuracy: 0.9133\n",
      "Epoch 4/20\n",
      "100778/100778 [==============================] - 9s 86us/step - loss: 0.4598 - accuracy: 0.9197 - val_loss: 0.4023 - val_accuracy: 0.9292\n",
      "Epoch 5/20\n",
      "100778/100778 [==============================] - 9s 85us/step - loss: 0.3729 - accuracy: 0.9308 - val_loss: 0.3335 - val_accuracy: 0.9409\n",
      "Epoch 6/20\n",
      "100778/100778 [==============================] - 9s 84us/step - loss: 0.3167 - accuracy: 0.9419 - val_loss: 0.2871 - val_accuracy: 0.9467\n",
      "Epoch 7/20\n",
      "100778/100778 [==============================] - 9s 85us/step - loss: 0.2775 - accuracy: 0.9475 - val_loss: 0.2536 - val_accuracy: 0.9505\n",
      "Epoch 8/20\n",
      "100778/100778 [==============================] - 8s 84us/step - loss: 0.2483 - accuracy: 0.9512 - val_loss: 0.2281 - val_accuracy: 0.9546\n",
      "Epoch 9/20\n",
      "100778/100778 [==============================] - 8s 83us/step - loss: 0.2255 - accuracy: 0.9543 - val_loss: 0.2079 - val_accuracy: 0.9574\n",
      "Epoch 10/20\n",
      "100778/100778 [==============================] - 9s 85us/step - loss: 0.2073 - accuracy: 0.9565 - val_loss: 0.1915 - val_accuracy: 0.9597\n",
      "Epoch 11/20\n",
      "100778/100778 [==============================] - 8s 84us/step - loss: 0.1923 - accuracy: 0.9595 - val_loss: 0.1780 - val_accuracy: 0.9628\n",
      "Epoch 12/20\n",
      "100778/100778 [==============================] - 9s 89us/step - loss: 0.1798 - accuracy: 0.9619 - val_loss: 0.1667 - val_accuracy: 0.9646\n",
      "Epoch 13/20\n",
      "100778/100778 [==============================] - 9s 85us/step - loss: 0.1692 - accuracy: 0.9634 - val_loss: 0.1571 - val_accuracy: 0.9663\n",
      "Epoch 14/20\n",
      "100778/100778 [==============================] - 8s 83us/step - loss: 0.1601 - accuracy: 0.9647 - val_loss: 0.1488 - val_accuracy: 0.9673\n",
      "Epoch 15/20\n",
      "100778/100778 [==============================] - 8s 75us/step - loss: 0.1522 - accuracy: 0.9657 - val_loss: 0.1416 - val_accuracy: 0.9678\n",
      "Epoch 16/20\n",
      "100778/100778 [==============================] - 6s 60us/step - loss: 0.1453 - accuracy: 0.9663 - val_loss: 0.1353 - val_accuracy: 0.9684\n",
      "Epoch 17/20\n",
      "100778/100778 [==============================] - 8s 77us/step - loss: 0.1392 - accuracy: 0.9671 - val_loss: 0.1298 - val_accuracy: 0.9690\n",
      "Epoch 18/20\n",
      "100778/100778 [==============================] - 6s 64us/step - loss: 0.1337 - accuracy: 0.9676 - val_loss: 0.1247 - val_accuracy: 0.9694\n",
      "Epoch 19/20\n",
      "100778/100778 [==============================] - 8s 79us/step - loss: 0.1287 - accuracy: 0.9682 - val_loss: 0.1202 - val_accuracy: 0.9700\n",
      "Epoch 20/20\n",
      "100778/100778 [==============================] - 8s 82us/step - loss: 0.1241 - accuracy: 0.9683 - val_loss: 0.1161 - val_accuracy: 0.9700\n"
     ]
    }
   ],
   "source": [
    "#Fit the model on our data.\n",
    "#X_train - The feature columns of the training data.\n",
    "#y_train - The labels columns of the training data.\n",
    "#validation_data - The validation data\n",
    "#batch_size and epochs further explained in document. \n",
    "history = model1.fit(X_train, y_train, \n",
    "          validation_data = (X_test, y_test),\n",
    "          batch_size = 32, \n",
    "          epochs = 20)"
   ]
  },
  {
   "cell_type": "code",
   "execution_count": 23,
   "metadata": {},
   "outputs": [
    {
     "data": {
      "text/plain": [
       "<matplotlib.legend.Legend at 0x279a593cd88>"
      ]
     },
     "execution_count": 23,
     "metadata": {},
     "output_type": "execute_result"
    },
    {
     "data": {
      "image/png": "[encoded data removed]",
      "text/plain": [
       "<Figure size 1080x288 with 2 Axes>"
      ]
     },
     "metadata": {
      "needs_background": "light"
     },
     "output_type": "display_data"
    }
   ],
   "source": [
    "#use matplitlib to draw the plots\n",
    "plt.figure(figsize = (15, 4))\n",
    "plt.subplot(1, 2, 1)\n",
    "plt.plot(history.history['loss'], label = \"TRAINING LOSS\")\n",
    "plt.plot(history.history['val_loss'], label = \"VALIDATION LOSS\")\n",
    "plt.title(\"TRAINING LOSS vs VALIDATION LOSS\")\n",
    "plt.xlabel(\"EPOCH'S\")\n",
    "plt.ylabel(\"TRAINING LOSS vs VALIDATION LOSS\")\n",
    "plt.legend(loc = \"best\")\n",
    "\n",
    "plt.subplot(1, 2, 2)\n",
    "plt.plot(history.history['accuracy'], label = \"TRAINING ACCURACY\")\n",
    "plt.plot(history.history['val_accuracy'], label = \"VALIDATION ACCURACY\")\n",
    "plt.title(\"TRAINING ACCURACY vs VALIDATION ACCURACY\")\n",
    "plt.xlabel(\"EPOCH'S\")\n",
    "plt.ylabel(\"TRAINING ACC vs VALIDATION ACCURACY\")\n",
    "plt.legend(loc = \"best\")"
   ]
  },
  {
   "cell_type": "markdown",
   "metadata": {},
   "source": [
    "Explained in Results section."
   ]
  },
  {
   "cell_type": "markdown",
   "metadata": {},
   "source": [
    "Load and save model 1:"
   ]
  },
  {
   "cell_type": "code",
   "execution_count": 24,
   "metadata": {},
   "outputs": [
    {
     "name": "stdout",
     "output_type": "stream",
     "text": [
      "Saved model to disk\n"
     ]
    }
   ],
   "source": [
    "#Serialize model 1 , save with json. \n",
    "model_json = model1.to_json() \n",
    "with open(\"model1.json\", \"w\") as json_file:\n",
    "    json_file.write(model_json)\n",
    "model1.save_weights('model1_weights.h5')\n",
    "print(\"Saved model to disk\")"
   ]
  },
  {
   "cell_type": "code",
   "execution_count": 25,
   "metadata": {},
   "outputs": [
    {
     "name": "stdout",
     "output_type": "stream",
     "text": [
      "Loaded model from disk\n"
     ]
    }
   ],
   "source": [
    "# load model 1. \n",
    "json_file = open(\"model1.json\", \"r\") \n",
    "loaded_model_json = json_file.read() \n",
    "json_file.close() \n",
    "loaded_model = model_from_json(loaded_model_json) \n",
    "loaded_model.load_weights(\"model1_weights.h5\")\n",
    "print(\"Loaded model from disk\")"
   ]
  },
  {
   "cell_type": "markdown",
   "metadata": {},
   "source": [
    "Model 2: "
   ]
  },
  {
   "cell_type": "markdown",
   "metadata": {},
   "source": [
    "Single Dense Hidden Layer with Output Layer"
   ]
  },
  {
   "cell_type": "code",
   "execution_count": 26,
   "metadata": {},
   "outputs": [],
   "source": [
    "model2 = Sequential()\n",
    "model2.add(Dense(32, input_dim = 120, activation = \"relu\", kernel_initializer = \"lecun_normal\"))\n",
    "model2.add(BatchNormalization())\n",
    "model2.add(Dropout(0.2))\n",
    "model2.add(Dense(32, activation = \"relu\"))\n",
    "model2.add(Dense(5, activation = \"softmax\"))"
   ]
  },
  {
   "cell_type": "code",
   "execution_count": 27,
   "metadata": {},
   "outputs": [
    {
     "name": "stdout",
     "output_type": "stream",
     "text": [
      "Model: \"sequential_2\"\n",
      "_________________________________________________________________\n",
      "Layer (type)                 Output Shape              Param #   \n",
      "=================================================================\n",
      "dense_4 (Dense)              (None, 32)                3872      \n",
      "_________________________________________________________________\n",
      "batch_normalization_1 (Batch (None, 32)                128       \n",
      "_________________________________________________________________\n",
      "dropout_1 (Dropout)          (None, 32)                0         \n",
      "_________________________________________________________________\n",
      "dense_5 (Dense)              (None, 32)                1056      \n",
      "_________________________________________________________________\n",
      "dense_6 (Dense)              (None, 5)                 165       \n",
      "=================================================================\n",
      "Total params: 5,221\n",
      "Trainable params: 5,157\n",
      "Non-trainable params: 64\n",
      "_________________________________________________________________\n"
     ]
    }
   ],
   "source": [
    "#List summary again \n",
    "model2.summary()"
   ]
  },
  {
   "cell_type": "code",
   "execution_count": 28,
   "metadata": {},
   "outputs": [],
   "source": [
    "#SGD used instead of Adam!\n",
    "optim2 = optimizers.Adam(lr = 0.0001)\n",
    "model2.compile(loss = 'categorical_crossentropy', optimizer = optim, metrics = ['accuracy'])"
   ]
  },
  {
   "cell_type": "code",
   "execution_count": 29,
   "metadata": {},
   "outputs": [
    {
     "name": "stdout",
     "output_type": "stream",
     "text": [
      "Train on 100778 samples, validate on 25195 samples\n",
      "Epoch 1/30\n",
      "100778/100778 [==============================] - 11s 107us/step - loss: 1.5279 - accuracy: 0.4202 - val_loss: 1.0936 - val_accuracy: 0.7589\n",
      "Epoch 2/30\n",
      "100778/100778 [==============================] - 10s 100us/step - loss: 0.8477 - accuracy: 0.7768 - val_loss: 0.7085 - val_accuracy: 0.8610\n",
      "Epoch 3/30\n",
      "100778/100778 [==============================] - 11s 105us/step - loss: 0.5845 - accuracy: 0.8493 - val_loss: 0.6082 - val_accuracy: 0.8786\n",
      "Epoch 4/30\n",
      "100778/100778 [==============================] - 10s 103us/step - loss: 0.4570 - accuracy: 0.8799 - val_loss: 0.4193 - val_accuracy: 0.9220\n",
      "Epoch 5/30\n",
      "100778/100778 [==============================] - 11s 105us/step - loss: 0.3844 - accuracy: 0.9010 - val_loss: 0.3419 - val_accuracy: 0.9343\n",
      "Epoch 6/30\n",
      "100778/100778 [==============================] - 9s 93us/step - loss: 0.3337 - accuracy: 0.9142 - val_loss: 0.3033 - val_accuracy: 0.9493\n",
      "Epoch 7/30\n",
      "100778/100778 [==============================] - 6s 64us/step - loss: 0.2957 - accuracy: 0.9256 - val_loss: 0.2702 - val_accuracy: 0.9550\n",
      "Epoch 8/30\n",
      "100778/100778 [==============================] - 8s 75us/step - loss: 0.2664 - accuracy: 0.9340 - val_loss: 0.2261 - val_accuracy: 0.9577\n",
      "Epoch 9/30\n",
      "100778/100778 [==============================] - 10s 99us/step - loss: 0.2435 - accuracy: 0.9389 - val_loss: 0.2111 - val_accuracy: 0.9612\n",
      "Epoch 10/30\n",
      "100778/100778 [==============================] - 10s 103us/step - loss: 0.2260 - accuracy: 0.9426 - val_loss: 0.1996 - val_accuracy: 0.9636\n",
      "Epoch 11/30\n",
      "100778/100778 [==============================] - 10s 101us/step - loss: 0.2116 - accuracy: 0.9470 - val_loss: 0.1773 - val_accuracy: 0.9661\n",
      "Epoch 12/30\n",
      "100778/100778 [==============================] - 10s 101us/step - loss: 0.1993 - accuracy: 0.9483 - val_loss: 0.1698 - val_accuracy: 0.9663\n",
      "Epoch 13/30\n",
      "100778/100778 [==============================] - 10s 97us/step - loss: 0.1871 - accuracy: 0.9516 - val_loss: 0.1535 - val_accuracy: 0.9679\n",
      "Epoch 14/30\n",
      "100778/100778 [==============================] - 10s 104us/step - loss: 0.1771 - accuracy: 0.9541 - val_loss: 0.1447 - val_accuracy: 0.9688\n",
      "Epoch 15/30\n",
      "100778/100778 [==============================] - 11s 104us/step - loss: 0.1685 - accuracy: 0.9551 - val_loss: 0.1384 - val_accuracy: 0.9686\n",
      "Epoch 16/30\n",
      "100778/100778 [==============================] - 10s 103us/step - loss: 0.1616 - accuracy: 0.9563 - val_loss: 0.1331 - val_accuracy: 0.9682\n",
      "Epoch 17/30\n",
      "100778/100778 [==============================] - 10s 98us/step - loss: 0.1549 - accuracy: 0.9583 - val_loss: 0.1232 - val_accuracy: 0.9716\n",
      "Epoch 18/30\n",
      "100778/100778 [==============================] - 10s 97us/step - loss: 0.1482 - accuracy: 0.9597 - val_loss: 0.1163 - val_accuracy: 0.9718\n",
      "Epoch 19/30\n",
      "100778/100778 [==============================] - 10s 104us/step - loss: 0.1434 - accuracy: 0.9610 - val_loss: 0.1107 - val_accuracy: 0.9719\n",
      "Epoch 20/30\n",
      "100778/100778 [==============================] - 10s 102us/step - loss: 0.1379 - accuracy: 0.9615 - val_loss: 0.1122 - val_accuracy: 0.9727\n",
      "Epoch 21/30\n",
      "100778/100778 [==============================] - 10s 101us/step - loss: 0.1343 - accuracy: 0.9628 - val_loss: 0.1097 - val_accuracy: 0.9735\n",
      "Epoch 22/30\n",
      "100778/100778 [==============================] - 10s 100us/step - loss: 0.1297 - accuracy: 0.9636 - val_loss: 0.1003 - val_accuracy: 0.9739\n",
      "Epoch 23/30\n",
      "100778/100778 [==============================] - 10s 99us/step - loss: 0.1253 - accuracy: 0.9647 - val_loss: 0.0969 - val_accuracy: 0.9747\n",
      "Epoch 24/30\n",
      "100778/100778 [==============================] - 10s 99us/step - loss: 0.1231 - accuracy: 0.9649 - val_loss: 0.1030 - val_accuracy: 0.9760\n",
      "Epoch 25/30\n",
      "100778/100778 [==============================] - 10s 104us/step - loss: 0.1204 - accuracy: 0.9656 - val_loss: 0.0978 - val_accuracy: 0.9769\n",
      "Epoch 26/30\n",
      "100778/100778 [==============================] - 10s 103us/step - loss: 0.1164 - accuracy: 0.9666 - val_loss: 0.0896 - val_accuracy: 0.9791\n",
      "Epoch 27/30\n",
      "100778/100778 [==============================] - 10s 102us/step - loss: 0.1152 - accuracy: 0.9672 - val_loss: 0.0946 - val_accuracy: 0.9775\n",
      "Epoch 28/30\n",
      "100778/100778 [==============================] - 10s 102us/step - loss: 0.1102 - accuracy: 0.9684 - val_loss: 0.0838 - val_accuracy: 0.9808\n",
      "Epoch 29/30\n",
      "100778/100778 [==============================] - 10s 101us/step - loss: 0.1085 - accuracy: 0.9693 - val_loss: 0.0874 - val_accuracy: 0.9808\n",
      "Epoch 30/30\n",
      "100778/100778 [==============================] - 10s 100us/step - loss: 0.1073 - accuracy: 0.9695 - val_loss: 0.0843 - val_accuracy: 0.9822\n"
     ]
    }
   ],
   "source": [
    "#Train model and validate. \n",
    "history2 = model2.fit(X_train, y_train, \n",
    "           batch_size = 32, \n",
    "           epochs = 30, \n",
    "           validation_data = (X_test, y_test))"
   ]
  },
  {
   "cell_type": "code",
   "execution_count": 30,
   "metadata": {
    "scrolled": false
   },
   "outputs": [
    {
     "data": {
      "text/plain": [
       "<matplotlib.legend.Legend at 0x279a597af88>"
      ]
     },
     "execution_count": 30,
     "metadata": {},
     "output_type": "execute_result"
    },
    {
     "data": {
      "image/png": "[encoded data removed]",
      "text/plain": [
       "<Figure size 1080x288 with 2 Axes>"
      ]
     },
     "metadata": {
      "needs_background": "light"
     },
     "output_type": "display_data"
    }
   ],
   "source": [
    "plt.figure(figsize = (15, 4))\n",
    "plt.subplot(1, 2, 1) \n",
    "plt.plot(history2.history['loss'], label = \"TRAINING LOSS\") \n",
    "plt.plot(history2.history['val_loss'], label = \"VALIDATION LOSS\") \n",
    "plt.title(\"TRAINING LOSS vs VALIDATION LOSS\")\n",
    "plt.xlabel(\"EPOCH'S\") \n",
    "plt.ylabel(\"TRAINING ACC vs VALIDATION LOSS\") \n",
    "plt.legend(loc = \"best\") \n",
    "\n",
    "plt.subplot(1, 2, 2)\n",
    "plt.plot(history2.history['accuracy'], label = \"TRAINING ACCURACY\") \n",
    "plt.plot(history2.history['val_accuracy'], label = \"VALIDATION ACCURACY\") \n",
    "plt.title(\"TRAINING ACCURACY vs VALIDATION ACCURACY\") \n",
    "plt.xlabel(\"EPOCH'S\") \n",
    "plt.ylabel(\"TRAINING ACC vs VALIDATION ACCURACY\") \n",
    "plt.legend(loc = \"best\") "
   ]
  },
  {
   "cell_type": "markdown",
   "metadata": {},
   "source": [
    "Explained in results section. "
   ]
  },
  {
   "cell_type": "code",
   "execution_count": 31,
   "metadata": {},
   "outputs": [],
   "source": [
    "from sklearn.tree import DecisionTreeClassifier\n",
    "model3 = DecisionTreeClassifier()\n",
    "model3.fit(X_train, y_train)\n",
    "y_pred = model3.predict(X_test) # prediksi"
   ]
  },
  {
   "cell_type": "code",
   "execution_count": 32,
   "metadata": {
    "scrolled": true
   },
   "outputs": [
    {
     "data": {
      "text/plain": [
       "array([[ 9241,     0,     0,     0,     0],\n",
       "       [    3, 13404,     9,     5,     0],\n",
       "       [    1,     3,  2326,     1,     0],\n",
       "       [    0,     4,     0,   184,     1],\n",
       "       [    0,     3,     0,     1,     9]], dtype=int64)"
      ]
     },
     "execution_count": 32,
     "metadata": {},
     "output_type": "execute_result"
    }
   ],
   "source": [
    "# Evaluasi Model menggunakan Confusion Matrix\n",
    "\n",
    "from sklearn.metrics import confusion_matrix\n",
    "confusion_matrix(y_test.values.argmax(axis=1), y_pred.argmax(axis=1))\n"
   ]
  },
  {
   "cell_type": "code",
   "execution_count": 33,
   "metadata": {},
   "outputs": [
    {
     "data": {
      "image/png": "[encoded data removed]",
      "text/plain": [
       "<Figure size 576x360 with 2 Axes>"
      ]
     },
     "metadata": {
      "needs_background": "light"
     },
     "output_type": "display_data"
    }
   ],
   "source": [
    "# memvisualisasikan confusion matrix \n",
    "\n",
    "# Install seaborn\n",
    "# !conda install -c anaconda seaborn -y \n",
    "\n",
    "import seaborn as sns\n",
    "import matplotlib.pyplot as plt\n",
    "f, ax = plt.subplots(figsize=(8,5))\n",
    "sns.heatmap(confusion_matrix(y_test.values.argmax(axis=1), y_pred.argmax(axis=1)), annot=True, fmt=\".0f\", ax=ax, cmap=plt.cm.Blues)\n",
    "plt.tight_layout()\n",
    "plt.xlabel(\"Predicted\")\n",
    "plt.ylabel(\"Actual\")\n",
    "plt.show()"
   ]
  },
  {
   "cell_type": "markdown",
   "metadata": {},
   "source": [
    "Keterangan:\n",
    "\n",
    "Output 0 = DoS\n",
    "Output 1 = Normal\n",
    "Output 2 = Probe\n",
    "Output 3 = R2L\n",
    "Output 4 = U2R\n",
    "\n",
    "Jumlah setiap output merupakan kisaran dari jumlah 20% dari masing-masing serangan, setiap kali program dijalankan jumlah yang diproses berubah-ubah. Namun total keseluruhan output merupakan hasil total dari 20% dataset yang menjadi test data (sebanyak 25195)."
   ]
  },
  {
   "cell_type": "code",
   "execution_count": 34,
   "metadata": {},
   "outputs": [
    {
     "name": "stdout",
     "output_type": "stream",
     "text": [
      "              precision    recall  f1-score   support\n",
      "\n",
      "           0       1.00      1.00      1.00      9241\n",
      "           1       1.00      1.00      1.00     13421\n",
      "           2       1.00      1.00      1.00      2331\n",
      "           3       0.96      0.97      0.97       189\n",
      "           4       0.90      0.69      0.78        13\n",
      "\n",
      "   micro avg       1.00      1.00      1.00     25195\n",
      "   macro avg       0.97      0.93      0.95     25195\n",
      "weighted avg       1.00      1.00      1.00     25195\n",
      " samples avg       1.00      1.00      1.00     25195\n",
      "\n"
     ]
    }
   ],
   "source": [
    "# Dari confusion matrix kita dapat mengetahui keakuratan dari model yang dibuat\n",
    "# dgn melihat performance metrics seperti: accuracy, recall, dan precision\n",
    "\n",
    "from sklearn.metrics import classification_report\n",
    "print (classification_report(y_test, y_pred))"
   ]
  }
 ],
 "metadata": {
  "kernelspec": {
   "display_name": "Python 3",
   "language": "python",
   "name": "python3"
  },
  "language_info": {
   "codemirror_mode": {
    "name": "ipython",
    "version": 3
   },
   "file_extension": ".py",
   "mimetype": "text/x-python",
   "name": "python",
   "nbconvert_exporter": "python",
   "pygments_lexer": "ipython3",
   "version": "3.7.6"
  }
 },
 "nbformat": 4,
 "nbformat_minor": 2
}
