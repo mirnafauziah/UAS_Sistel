{
 "cells": [
  {
   "cell_type": "markdown",
   "metadata": {},
   "source": [
    "## IMPORTING THE REQUIRED LIBRARIES"
   ]
  },
  {
   "cell_type": "code",
   "execution_count": 82,
   "metadata": {},
   "outputs": [],
   "source": [
    "#Make sure all the following libraries are installed before running the application. \n",
    "import pandas as pd\n",
    "import numpy as np\n",
    "import sklearn\n",
    "from sklearn.utils import shuffle\n",
    "from sklearn.metrics import *\n",
    "from sklearn.preprocessing import StandardScaler\n",
    "from sklearn.model_selection import train_test_split\n",
    "from sklearn.preprocessing import LabelEncoder\n",
    "import matplotlib.pyplot as plt\n",
    "import warnings\n",
    "\n",
    "from keras.preprocessing import sequence\n",
    "from keras import optimizers\n",
    "from keras.utils import np_utils\n",
    "from keras.models import Sequential\n",
    "from keras.layers import Dense, Dropout, Activation, Embedding, SimpleRNN, BatchNormalization\n",
    "from keras.models import model_from_json\n",
    "\n",
    "warnings.filterwarnings(\"ignore\")\n",
    "%matplotlib inline\n",
    "\n"
   ]
  },
  {
   "cell_type": "markdown",
   "metadata": {},
   "source": [
    "## LOADING TRAINING AND TESTING DATA"
   ]
  },
  {
   "cell_type": "code",
   "execution_count": 83,
   "metadata": {},
   "outputs": [],
   "source": [
    "#memasukan tabel dalam file .csv sebagai header di training data\n",
    "\n",
    "#load the csv file containing the column names \n",
    "column_name = pd.read_csv(\"Field Names.csv\", header = None)"
   ]
  },
  {
   "cell_type": "code",
   "execution_count": 84,
   "metadata": {},
   "outputs": [],
   "source": [
    "#mengubah baris yg ada di file .csv sebagai msg2 kolom baru\n",
    "\n",
    "#Convert the array into list\n",
    "new_columns = list(column_name[0].values)"
   ]
  },
  {
   "cell_type": "code",
   "execution_count": 85,
   "metadata": {},
   "outputs": [],
   "source": [
    "#menambah kolom kelas dan kesulitan\n",
    "\n",
    "#adding difficulty \n",
    "new_columns += ['class', 'difficulty']"
   ]
  },
  {
   "cell_type": "code",
   "execution_count": 86,
   "metadata": {},
   "outputs": [],
   "source": [
    "#loading train and test data files\n",
    "train_data = pd.read_csv('KDDTrain+.txt', names = new_columns)\n",
    "test_data = pd.read_csv('KDDTest+.txt', names = new_columns)"
   ]
  },
  {
   "cell_type": "code",
   "execution_count": 87,
   "metadata": {
    "scrolled": false
   },
   "outputs": [
    {
     "name": "stdout",
     "output_type": "stream",
     "text": [
      "The training data is\n"
     ]
    },
    {
     "data": {
      "text/html": [
       "<div>\n",
       "<style scoped>\n",
       "    .dataframe tbody tr th:only-of-type {\n",
       "        vertical-align: middle;\n",
       "    }\n",
       "\n",
       "    .dataframe tbody tr th {\n",
       "        vertical-align: top;\n",
       "    }\n",
       "\n",
       "    .dataframe thead th {\n",
       "        text-align: right;\n",
       "    }\n",
       "</style>\n",
       "<table border=\"1\" class=\"dataframe\">\n",
       "  <thead>\n",
       "    <tr style=\"text-align: right;\">\n",
       "      <th></th>\n",
       "      <th>duration</th>\n",
       "      <th>protocol_type</th>\n",
       "      <th>service</th>\n",
       "      <th>flag</th>\n",
       "      <th>src_bytes</th>\n",
       "      <th>dst_bytes</th>\n",
       "      <th>land</th>\n",
       "      <th>wrong_fragment</th>\n",
       "      <th>urgent</th>\n",
       "      <th>hot</th>\n",
       "      <th>...</th>\n",
       "      <th>dst_host_same_srv_rate</th>\n",
       "      <th>dst_host_diff_srv_rate</th>\n",
       "      <th>dst_host_same_src_port_rate</th>\n",
       "      <th>dst_host_srv_diff_host_rate</th>\n",
       "      <th>dst_host_serror_rate</th>\n",
       "      <th>dst_host_srv_serror_rate</th>\n",
       "      <th>dst_host_rerror_rate</th>\n",
       "      <th>dst_host_srv_rerror_rate</th>\n",
       "      <th>class</th>\n",
       "      <th>difficulty</th>\n",
       "    </tr>\n",
       "  </thead>\n",
       "  <tbody>\n",
       "    <tr>\n",
       "      <th>125968</th>\n",
       "      <td>0</td>\n",
       "      <td>tcp</td>\n",
       "      <td>private</td>\n",
       "      <td>S0</td>\n",
       "      <td>0</td>\n",
       "      <td>0</td>\n",
       "      <td>0</td>\n",
       "      <td>0</td>\n",
       "      <td>0</td>\n",
       "      <td>0</td>\n",
       "      <td>...</td>\n",
       "      <td>0.10</td>\n",
       "      <td>0.06</td>\n",
       "      <td>0.00</td>\n",
       "      <td>0.0</td>\n",
       "      <td>1.00</td>\n",
       "      <td>1.0</td>\n",
       "      <td>0.00</td>\n",
       "      <td>0.0</td>\n",
       "      <td>neptune</td>\n",
       "      <td>20</td>\n",
       "    </tr>\n",
       "    <tr>\n",
       "      <th>125969</th>\n",
       "      <td>8</td>\n",
       "      <td>udp</td>\n",
       "      <td>private</td>\n",
       "      <td>SF</td>\n",
       "      <td>105</td>\n",
       "      <td>145</td>\n",
       "      <td>0</td>\n",
       "      <td>0</td>\n",
       "      <td>0</td>\n",
       "      <td>0</td>\n",
       "      <td>...</td>\n",
       "      <td>0.96</td>\n",
       "      <td>0.01</td>\n",
       "      <td>0.01</td>\n",
       "      <td>0.0</td>\n",
       "      <td>0.00</td>\n",
       "      <td>0.0</td>\n",
       "      <td>0.00</td>\n",
       "      <td>0.0</td>\n",
       "      <td>normal</td>\n",
       "      <td>21</td>\n",
       "    </tr>\n",
       "    <tr>\n",
       "      <th>125970</th>\n",
       "      <td>0</td>\n",
       "      <td>tcp</td>\n",
       "      <td>smtp</td>\n",
       "      <td>SF</td>\n",
       "      <td>2231</td>\n",
       "      <td>384</td>\n",
       "      <td>0</td>\n",
       "      <td>0</td>\n",
       "      <td>0</td>\n",
       "      <td>0</td>\n",
       "      <td>...</td>\n",
       "      <td>0.12</td>\n",
       "      <td>0.06</td>\n",
       "      <td>0.00</td>\n",
       "      <td>0.0</td>\n",
       "      <td>0.72</td>\n",
       "      <td>0.0</td>\n",
       "      <td>0.01</td>\n",
       "      <td>0.0</td>\n",
       "      <td>normal</td>\n",
       "      <td>18</td>\n",
       "    </tr>\n",
       "    <tr>\n",
       "      <th>125971</th>\n",
       "      <td>0</td>\n",
       "      <td>tcp</td>\n",
       "      <td>klogin</td>\n",
       "      <td>S0</td>\n",
       "      <td>0</td>\n",
       "      <td>0</td>\n",
       "      <td>0</td>\n",
       "      <td>0</td>\n",
       "      <td>0</td>\n",
       "      <td>0</td>\n",
       "      <td>...</td>\n",
       "      <td>0.03</td>\n",
       "      <td>0.05</td>\n",
       "      <td>0.00</td>\n",
       "      <td>0.0</td>\n",
       "      <td>1.00</td>\n",
       "      <td>1.0</td>\n",
       "      <td>0.00</td>\n",
       "      <td>0.0</td>\n",
       "      <td>neptune</td>\n",
       "      <td>20</td>\n",
       "    </tr>\n",
       "    <tr>\n",
       "      <th>125972</th>\n",
       "      <td>0</td>\n",
       "      <td>tcp</td>\n",
       "      <td>ftp_data</td>\n",
       "      <td>SF</td>\n",
       "      <td>151</td>\n",
       "      <td>0</td>\n",
       "      <td>0</td>\n",
       "      <td>0</td>\n",
       "      <td>0</td>\n",
       "      <td>0</td>\n",
       "      <td>...</td>\n",
       "      <td>0.30</td>\n",
       "      <td>0.03</td>\n",
       "      <td>0.30</td>\n",
       "      <td>0.0</td>\n",
       "      <td>0.00</td>\n",
       "      <td>0.0</td>\n",
       "      <td>0.00</td>\n",
       "      <td>0.0</td>\n",
       "      <td>normal</td>\n",
       "      <td>21</td>\n",
       "    </tr>\n",
       "  </tbody>\n",
       "</table>\n",
       "<p>5 rows × 43 columns</p>\n",
       "</div>"
      ],
      "text/plain": [
       "        duration protocol_type   service flag  src_bytes  dst_bytes  land  \\\n",
       "125968         0           tcp   private   S0          0          0     0   \n",
       "125969         8           udp   private   SF        105        145     0   \n",
       "125970         0           tcp      smtp   SF       2231        384     0   \n",
       "125971         0           tcp    klogin   S0          0          0     0   \n",
       "125972         0           tcp  ftp_data   SF        151          0     0   \n",
       "\n",
       "        wrong_fragment  urgent  hot  ...  dst_host_same_srv_rate  \\\n",
       "125968               0       0    0  ...                    0.10   \n",
       "125969               0       0    0  ...                    0.96   \n",
       "125970               0       0    0  ...                    0.12   \n",
       "125971               0       0    0  ...                    0.03   \n",
       "125972               0       0    0  ...                    0.30   \n",
       "\n",
       "        dst_host_diff_srv_rate  dst_host_same_src_port_rate  \\\n",
       "125968                    0.06                         0.00   \n",
       "125969                    0.01                         0.01   \n",
       "125970                    0.06                         0.00   \n",
       "125971                    0.05                         0.00   \n",
       "125972                    0.03                         0.30   \n",
       "\n",
       "        dst_host_srv_diff_host_rate  dst_host_serror_rate  \\\n",
       "125968                          0.0                  1.00   \n",
       "125969                          0.0                  0.00   \n",
       "125970                          0.0                  0.72   \n",
       "125971                          0.0                  1.00   \n",
       "125972                          0.0                  0.00   \n",
       "\n",
       "        dst_host_srv_serror_rate  dst_host_rerror_rate  \\\n",
       "125968                       1.0                  0.00   \n",
       "125969                       0.0                  0.00   \n",
       "125970                       0.0                  0.01   \n",
       "125971                       1.0                  0.00   \n",
       "125972                       0.0                  0.00   \n",
       "\n",
       "        dst_host_srv_rerror_rate    class  difficulty  \n",
       "125968                       0.0  neptune          20  \n",
       "125969                       0.0   normal          21  \n",
       "125970                       0.0   normal          18  \n",
       "125971                       0.0  neptune          20  \n",
       "125972                       0.0   normal          21  \n",
       "\n",
       "[5 rows x 43 columns]"
      ]
     },
     "execution_count": 87,
     "metadata": {},
     "output_type": "execute_result"
    }
   ],
   "source": [
    "#Training data sample\n",
    "print(\"The training data is\")\n",
    "train_data.tail()"
   ]
  },
  {
   "cell_type": "code",
   "execution_count": 88,
   "metadata": {},
   "outputs": [
    {
     "name": "stdout",
     "output_type": "stream",
     "text": [
      "The shape of the training dataframe is : (125973, 43)\n"
     ]
    }
   ],
   "source": [
    "#Output total rows and columns of dataframe\n",
    "print(f\"The shape of the training dataframe is : {train_data.shape}\")"
   ]
  },
  {
   "cell_type": "code",
   "execution_count": 89,
   "metadata": {},
   "outputs": [
    {
     "name": "stdout",
     "output_type": "stream",
     "text": [
      "The testing data is\n"
     ]
    },
    {
     "data": {
      "text/html": [
       "<div>\n",
       "<style scoped>\n",
       "    .dataframe tbody tr th:only-of-type {\n",
       "        vertical-align: middle;\n",
       "    }\n",
       "\n",
       "    .dataframe tbody tr th {\n",
       "        vertical-align: top;\n",
       "    }\n",
       "\n",
       "    .dataframe thead th {\n",
       "        text-align: right;\n",
       "    }\n",
       "</style>\n",
       "<table border=\"1\" class=\"dataframe\">\n",
       "  <thead>\n",
       "    <tr style=\"text-align: right;\">\n",
       "      <th></th>\n",
       "      <th>duration</th>\n",
       "      <th>protocol_type</th>\n",
       "      <th>service</th>\n",
       "      <th>flag</th>\n",
       "      <th>src_bytes</th>\n",
       "      <th>dst_bytes</th>\n",
       "      <th>land</th>\n",
       "      <th>wrong_fragment</th>\n",
       "      <th>urgent</th>\n",
       "      <th>hot</th>\n",
       "      <th>...</th>\n",
       "      <th>dst_host_same_srv_rate</th>\n",
       "      <th>dst_host_diff_srv_rate</th>\n",
       "      <th>dst_host_same_src_port_rate</th>\n",
       "      <th>dst_host_srv_diff_host_rate</th>\n",
       "      <th>dst_host_serror_rate</th>\n",
       "      <th>dst_host_srv_serror_rate</th>\n",
       "      <th>dst_host_rerror_rate</th>\n",
       "      <th>dst_host_srv_rerror_rate</th>\n",
       "      <th>class</th>\n",
       "      <th>difficulty</th>\n",
       "    </tr>\n",
       "  </thead>\n",
       "  <tbody>\n",
       "    <tr>\n",
       "      <th>0</th>\n",
       "      <td>0</td>\n",
       "      <td>tcp</td>\n",
       "      <td>private</td>\n",
       "      <td>REJ</td>\n",
       "      <td>0</td>\n",
       "      <td>0</td>\n",
       "      <td>0</td>\n",
       "      <td>0</td>\n",
       "      <td>0</td>\n",
       "      <td>0</td>\n",
       "      <td>...</td>\n",
       "      <td>0.04</td>\n",
       "      <td>0.06</td>\n",
       "      <td>0.00</td>\n",
       "      <td>0.00</td>\n",
       "      <td>0.0</td>\n",
       "      <td>0.0</td>\n",
       "      <td>1.00</td>\n",
       "      <td>1.00</td>\n",
       "      <td>neptune</td>\n",
       "      <td>21</td>\n",
       "    </tr>\n",
       "    <tr>\n",
       "      <th>1</th>\n",
       "      <td>0</td>\n",
       "      <td>tcp</td>\n",
       "      <td>private</td>\n",
       "      <td>REJ</td>\n",
       "      <td>0</td>\n",
       "      <td>0</td>\n",
       "      <td>0</td>\n",
       "      <td>0</td>\n",
       "      <td>0</td>\n",
       "      <td>0</td>\n",
       "      <td>...</td>\n",
       "      <td>0.00</td>\n",
       "      <td>0.06</td>\n",
       "      <td>0.00</td>\n",
       "      <td>0.00</td>\n",
       "      <td>0.0</td>\n",
       "      <td>0.0</td>\n",
       "      <td>1.00</td>\n",
       "      <td>1.00</td>\n",
       "      <td>neptune</td>\n",
       "      <td>21</td>\n",
       "    </tr>\n",
       "    <tr>\n",
       "      <th>2</th>\n",
       "      <td>2</td>\n",
       "      <td>tcp</td>\n",
       "      <td>ftp_data</td>\n",
       "      <td>SF</td>\n",
       "      <td>12983</td>\n",
       "      <td>0</td>\n",
       "      <td>0</td>\n",
       "      <td>0</td>\n",
       "      <td>0</td>\n",
       "      <td>0</td>\n",
       "      <td>...</td>\n",
       "      <td>0.61</td>\n",
       "      <td>0.04</td>\n",
       "      <td>0.61</td>\n",
       "      <td>0.02</td>\n",
       "      <td>0.0</td>\n",
       "      <td>0.0</td>\n",
       "      <td>0.00</td>\n",
       "      <td>0.00</td>\n",
       "      <td>normal</td>\n",
       "      <td>21</td>\n",
       "    </tr>\n",
       "    <tr>\n",
       "      <th>3</th>\n",
       "      <td>0</td>\n",
       "      <td>icmp</td>\n",
       "      <td>eco_i</td>\n",
       "      <td>SF</td>\n",
       "      <td>20</td>\n",
       "      <td>0</td>\n",
       "      <td>0</td>\n",
       "      <td>0</td>\n",
       "      <td>0</td>\n",
       "      <td>0</td>\n",
       "      <td>...</td>\n",
       "      <td>1.00</td>\n",
       "      <td>0.00</td>\n",
       "      <td>1.00</td>\n",
       "      <td>0.28</td>\n",
       "      <td>0.0</td>\n",
       "      <td>0.0</td>\n",
       "      <td>0.00</td>\n",
       "      <td>0.00</td>\n",
       "      <td>saint</td>\n",
       "      <td>15</td>\n",
       "    </tr>\n",
       "    <tr>\n",
       "      <th>4</th>\n",
       "      <td>1</td>\n",
       "      <td>tcp</td>\n",
       "      <td>telnet</td>\n",
       "      <td>RSTO</td>\n",
       "      <td>0</td>\n",
       "      <td>15</td>\n",
       "      <td>0</td>\n",
       "      <td>0</td>\n",
       "      <td>0</td>\n",
       "      <td>0</td>\n",
       "      <td>...</td>\n",
       "      <td>0.31</td>\n",
       "      <td>0.17</td>\n",
       "      <td>0.03</td>\n",
       "      <td>0.02</td>\n",
       "      <td>0.0</td>\n",
       "      <td>0.0</td>\n",
       "      <td>0.83</td>\n",
       "      <td>0.71</td>\n",
       "      <td>mscan</td>\n",
       "      <td>11</td>\n",
       "    </tr>\n",
       "  </tbody>\n",
       "</table>\n",
       "<p>5 rows × 43 columns</p>\n",
       "</div>"
      ],
      "text/plain": [
       "   duration protocol_type   service  flag  src_bytes  dst_bytes  land  \\\n",
       "0         0           tcp   private   REJ          0          0     0   \n",
       "1         0           tcp   private   REJ          0          0     0   \n",
       "2         2           tcp  ftp_data    SF      12983          0     0   \n",
       "3         0          icmp     eco_i    SF         20          0     0   \n",
       "4         1           tcp    telnet  RSTO          0         15     0   \n",
       "\n",
       "   wrong_fragment  urgent  hot  ...  dst_host_same_srv_rate  \\\n",
       "0               0       0    0  ...                    0.04   \n",
       "1               0       0    0  ...                    0.00   \n",
       "2               0       0    0  ...                    0.61   \n",
       "3               0       0    0  ...                    1.00   \n",
       "4               0       0    0  ...                    0.31   \n",
       "\n",
       "   dst_host_diff_srv_rate  dst_host_same_src_port_rate  \\\n",
       "0                    0.06                         0.00   \n",
       "1                    0.06                         0.00   \n",
       "2                    0.04                         0.61   \n",
       "3                    0.00                         1.00   \n",
       "4                    0.17                         0.03   \n",
       "\n",
       "   dst_host_srv_diff_host_rate  dst_host_serror_rate  \\\n",
       "0                         0.00                   0.0   \n",
       "1                         0.00                   0.0   \n",
       "2                         0.02                   0.0   \n",
       "3                         0.28                   0.0   \n",
       "4                         0.02                   0.0   \n",
       "\n",
       "   dst_host_srv_serror_rate  dst_host_rerror_rate  dst_host_srv_rerror_rate  \\\n",
       "0                       0.0                  1.00                      1.00   \n",
       "1                       0.0                  1.00                      1.00   \n",
       "2                       0.0                  0.00                      0.00   \n",
       "3                       0.0                  0.00                      0.00   \n",
       "4                       0.0                  0.83                      0.71   \n",
       "\n",
       "     class  difficulty  \n",
       "0  neptune          21  \n",
       "1  neptune          21  \n",
       "2   normal          21  \n",
       "3    saint          15  \n",
       "4    mscan          11  \n",
       "\n",
       "[5 rows x 43 columns]"
      ]
     },
     "execution_count": 89,
     "metadata": {},
     "output_type": "execute_result"
    }
   ],
   "source": [
    "#Same for testing\n",
    "print(\"The testing data is\")\n",
    "test_data.head()"
   ]
  },
  {
   "cell_type": "code",
   "execution_count": 90,
   "metadata": {},
   "outputs": [
    {
     "name": "stdout",
     "output_type": "stream",
     "text": [
      "The shape of the testing dataframe is : (22544, 43)\n"
     ]
    }
   ],
   "source": [
    "#Idem dito ^\n",
    "print(f\"The shape of the testing dataframe is : {test_data.shape}\")"
   ]
  },
  {
   "cell_type": "code",
   "execution_count": 91,
   "metadata": {},
   "outputs": [],
   "source": [
    "#Load attacks.txt containing the attack categories\n",
    "map_attacks = [x.strip().split() for x in open('attacks.txt', 'r')]\n",
    "map_attacks = {k:v for (k,v) in map_attacks}"
   ]
  },
  {
   "cell_type": "code",
   "execution_count": 92,
   "metadata": {},
   "outputs": [],
   "source": [
    "#Replace the \"class\" column values to 5 attack categories in training and testing dataframe\n",
    "train_data['class'] = train_data['class'].replace(map_attacks)\n",
    "test_data['class'] = test_data['class'].replace(map_attacks)"
   ]
  },
  {
   "cell_type": "code",
   "execution_count": 93,
   "metadata": {},
   "outputs": [],
   "source": [
    "train_data = shuffle(train_data)"
   ]
  },
  {
   "cell_type": "markdown",
   "metadata": {},
   "source": [
    "## DATA PREPROCESSING"
   ]
  },
  {
   "cell_type": "code",
   "execution_count": 94,
   "metadata": {},
   "outputs": [],
   "source": [
    "#separate the training dataframe into feature columns and label columns\n",
    "X = train_data.drop('class', axis = 1) #Independent features\n",
    "y = train_data['class'] #Dependent features (Labels)"
   ]
  },
  {
   "cell_type": "code",
   "execution_count": 95,
   "metadata": {},
   "outputs": [],
   "source": [
    "#Converting String to Integer with get_dummies by pandas\n",
    "columns = ['protocol_type', 'service', 'flag']\n",
    "X_new = pd.get_dummies(X, columns = columns, drop_first = True)"
   ]
  },
  {
   "cell_type": "code",
   "execution_count": 96,
   "metadata": {},
   "outputs": [],
   "source": [
    "#Idem dito for class ^\n",
    "y_new = train_data['class']\n",
    "y_new = pd.get_dummies(y_new)"
   ]
  },
  {
   "cell_type": "code",
   "execution_count": 97,
   "metadata": {},
   "outputs": [],
   "source": [
    "#Split data: 80% training and 20% testing \n",
    "X_train, X_test, y_train, y_test = train_test_split(X_new, y_new, test_size = 0.2, random_state = 101)"
   ]
  },
  {
   "cell_type": "code",
   "execution_count": 98,
   "metadata": {},
   "outputs": [],
   "source": [
    "#Use StandardScaler() to standardize data - explained in Honours Project\n",
    "sc = StandardScaler()\n",
    "sc.fit(np.array(X_train))\n",
    "X_train = sc.transform(X_train)\n",
    "X_test = sc.transform(X_test)"
   ]
  },
  {
   "cell_type": "code",
   "execution_count": 116,
   "metadata": {},
   "outputs": [
    {
     "name": "stdout",
     "output_type": "stream",
     "text": [
      "The training data is\n",
      "[[-0.10958591 -0.00728521 -0.00463896 ... -0.01890366  0.82523097\n",
      "  -0.04730355]\n",
      " [-0.10958591 -0.00759623 -0.00463896 ... -0.01890366 -1.21178196\n",
      "  -0.04730355]\n",
      " [-0.10958591 -0.0075376  -0.00356025 ... -0.01890366  0.82523097\n",
      "  -0.04730355]\n",
      " ...\n",
      " [-0.10958591 -0.00759623 -0.00463896 ... -0.01890366 -1.21178196\n",
      "  -0.04730355]\n",
      " [-0.10958591 -0.00759623 -0.00463896 ... -0.01890366 -1.21178196\n",
      "  -0.04730355]\n",
      " [-0.10958591 -0.00753592 -0.0039097  ... -0.01890366  0.82523097\n",
      "  -0.04730355]]\n",
      "        dos  normal  probe  r2l  u2r\n",
      "14979     1       0      0    0    0\n",
      "52768     1       0      0    0    0\n",
      "71899     0       1      0    0    0\n",
      "106622    1       0      0    0    0\n",
      "107128    1       0      0    0    0\n",
      "...     ...     ...    ...  ...  ...\n",
      "101830    1       0      0    0    0\n",
      "75388     1       0      0    0    0\n",
      "114782    1       0      0    0    0\n",
      "85612     0       1      0    0    0\n",
      "46770     0       1      0    0    0\n",
      "\n",
      "[100778 rows x 5 columns]\n",
      "--------------------------------------------------------------------------------\n",
      "The shape of the training X_train dataframe is : (100778, 120)\n",
      "The shape of the training y_train dataframe is : (100778, 5)\n",
      "--------------------------------------------------------------------------------\n",
      "The testing data is\n",
      "[[-0.10958591 -0.00759623 -0.00463896 ... -0.01890366 -1.21178196\n",
      "  -0.04730355]\n",
      " [-0.10958591 -0.00754558 -0.00418801 ... -0.01890366  0.82523097\n",
      "  -0.04730355]\n",
      " [-0.10958591 -0.00759623 -0.00463896 ... -0.01890366 -1.21178196\n",
      "  -0.04730355]\n",
      " ...\n",
      " [-0.10958591 -0.00759623 -0.00463896 ... -0.01890366 -1.21178196\n",
      "  -0.04730355]\n",
      " [-0.10958591 -0.00752583 -0.00389742 ... -0.01890366  0.82523097\n",
      "  -0.04730355]\n",
      " [-0.10958591 -0.00753802 -0.00444408 ... -0.01890366  0.82523097\n",
      "  -0.04730355]]\n",
      "        dos  normal  probe  r2l  u2r\n",
      "16535     1       0      0    0    0\n",
      "119198    0       1      0    0    0\n",
      "1964      1       0      0    0    0\n",
      "111629    0       1      0    0    0\n",
      "108233    1       0      0    0    0\n",
      "...     ...     ...    ...  ...  ...\n",
      "39550     0       1      0    0    0\n",
      "40984     1       0      0    0    0\n",
      "44652     1       0      0    0    0\n",
      "119563    0       1      0    0    0\n",
      "4058      0       1      0    0    0\n",
      "\n",
      "[25195 rows x 5 columns]\n",
      "--------------------------------------------------------------------------------\n",
      "The shape of the testing X_test dataframe is : (25195, 120)\n",
      "The shape of the testing y_test dataframe is : (25195, 5)\n",
      "--------------------------------------------------------------------------------\n"
     ]
    }
   ],
   "source": [
    "#untuk melihat data yang digunakan\n",
    "\n",
    "#Training data sample\n",
    "print(\"The training data is\")\n",
    "print (X_train)\n",
    "print (y_train)\n",
    "print(\"--------------------------------------------------------------------------------\")\n",
    "#Output total rows and columns of dataframe\n",
    "print(f\"The shape of the training X_train dataframe is : {X_train.shape}\")\n",
    "print(f\"The shape of the training y_train dataframe is : {y_train.shape}\")\n",
    "print(\"--------------------------------------------------------------------------------\")\n",
    "\n",
    "#Same for testing\n",
    "print(\"The testing data is\")\n",
    "print (X_test)\n",
    "print (y_test)\n",
    "print(\"--------------------------------------------------------------------------------\")\n",
    "#Idem dito ^\n",
    "print(f\"The shape of the testing X_test dataframe is : {X_test.shape}\")\n",
    "print(f\"The shape of the testing y_test dataframe is : {y_test.shape}\")\n",
    "print(\"--------------------------------------------------------------------------------\")"
   ]
  },
  {
   "cell_type": "markdown",
   "metadata": {},
   "source": [
    "MODEL 1: "
   ]
  },
  {
   "cell_type": "markdown",
   "metadata": {},
   "source": [
    "First model. This model contains all the dense layers. In dense layers each node or neuron in a layer is connected to all the nodes/neurons in the preceding layer, further explained in Honours Document. "
   ]
  },
  {
   "cell_type": "code",
   "execution_count": 100,
   "metadata": {},
   "outputs": [],
   "source": [
    "#Use the keras's sequential API \n",
    "#First dense layer takes an input parameter as 256 (number of neurons in the first layer).\n",
    "#The second parameter \"input_dim\" corresponds to the input features. \n",
    "#Use \"relu\" as activation function.\n",
    "#The activation function for last dense layer is \"softmax\" because of the multiple classes, further explained in document.\n",
    "#Set dropout for 10%. \n",
    "model1 = Sequential()\n",
    "model1.add(Dense(64, input_dim = 120, activation = \"relu\", kernel_initializer = \"lecun_normal\"))\n",
    "model1.add(Dense(128, activation = \"relu\"))\n",
    "model1.add(Dense(5, activation = \"softmax\"))"
   ]
  },
  {
   "cell_type": "code",
   "execution_count": 101,
   "metadata": {
    "scrolled": false
   },
   "outputs": [
    {
     "name": "stdout",
     "output_type": "stream",
     "text": [
      "Model: \"sequential_5\"\n",
      "_________________________________________________________________\n",
      "Layer (type)                 Output Shape              Param #   \n",
      "=================================================================\n",
      "dense_13 (Dense)             (None, 64)                7744      \n",
      "_________________________________________________________________\n",
      "dense_14 (Dense)             (None, 128)               8320      \n",
      "_________________________________________________________________\n",
      "dense_15 (Dense)             (None, 5)                 645       \n",
      "=================================================================\n",
      "Total params: 16,709\n",
      "Trainable params: 16,709\n",
      "Non-trainable params: 0\n",
      "_________________________________________________________________\n"
     ]
    }
   ],
   "source": [
    "#Summary of model architecture listing information about parameters per layer. \n",
    "model1.summary()"
   ]
  },
  {
   "cell_type": "code",
   "execution_count": 102,
   "metadata": {},
   "outputs": [],
   "source": [
    "#Three paramaters: \n",
    "#Loss - The loss function.\n",
    "#Optimizer - To minimize the loss function.\n",
    "#Metrics - The mode of evaluation for our model.\n",
    "#\"categorical_loss\" - is used because of the multi-class classifcation problem.\n",
    "#\"adam\" - The updated version of SGD.\n",
    "optim = optimizers.SGD(lr = 0.0001)\n",
    "model1.compile(loss = 'categorical_crossentropy', optimizer = optim, metrics = ['accuracy'])"
   ]
  },
  {
   "cell_type": "code",
   "execution_count": 103,
   "metadata": {},
   "outputs": [
    {
     "name": "stdout",
     "output_type": "stream",
     "text": [
      "Train on 100778 samples, validate on 25195 samples\n",
      "Epoch 1/20\n",
      "100778/100778 [==============================] - 8s 82us/step - loss: 1.2475 - accuracy: 0.6451 - val_loss: 0.9517 - val_accuracy: 0.8189\n",
      "Epoch 2/20\n",
      "100778/100778 [==============================] - 8s 77us/step - loss: 0.7818 - accuracy: 0.8331 - val_loss: 0.6445 - val_accuracy: 0.8497\n",
      "Epoch 3/20\n",
      "100778/100778 [==============================] - 8s 76us/step - loss: 0.5601 - accuracy: 0.8573 - val_loss: 0.4887 - val_accuracy: 0.8669\n",
      "Epoch 4/20\n",
      "100778/100778 [==============================] - 8s 78us/step - loss: 0.4399 - accuracy: 0.8670 - val_loss: 0.3970 - val_accuracy: 0.8778\n",
      "Epoch 5/20\n",
      "100778/100778 [==============================] - 8s 75us/step - loss: 0.3638 - accuracy: 0.8904 - val_loss: 0.3355 - val_accuracy: 0.9089\n",
      "Epoch 6/20\n",
      "100778/100778 [==============================] - 8s 76us/step - loss: 0.3105 - accuracy: 0.9260 - val_loss: 0.2908 - val_accuracy: 0.9362\n",
      "Epoch 7/20\n",
      "100778/100778 [==============================] - 8s 75us/step - loss: 0.2707 - accuracy: 0.9404 - val_loss: 0.2568 - val_accuracy: 0.9445\n",
      "Epoch 8/20\n",
      "100778/100778 [==============================] - 8s 76us/step - loss: 0.2401 - accuracy: 0.9506 - val_loss: 0.2304 - val_accuracy: 0.9562\n",
      "Epoch 9/20\n",
      "100778/100778 [==============================] - 8s 77us/step - loss: 0.2161 - accuracy: 0.9601 - val_loss: 0.2095 - val_accuracy: 0.9617\n",
      "Epoch 10/20\n",
      "100778/100778 [==============================] - 8s 76us/step - loss: 0.1969 - accuracy: 0.9649 - val_loss: 0.1926 - val_accuracy: 0.9638\n",
      "Epoch 11/20\n",
      "100778/100778 [==============================] - 8s 76us/step - loss: 0.1814 - accuracy: 0.9671 - val_loss: 0.1788 - val_accuracy: 0.9659\n",
      "Epoch 12/20\n",
      "100778/100778 [==============================] - 8s 75us/step - loss: 0.1685 - accuracy: 0.9687 - val_loss: 0.1672 - val_accuracy: 0.9673\n",
      "Epoch 13/20\n",
      "100778/100778 [==============================] - 8s 75us/step - loss: 0.1577 - accuracy: 0.9702 - val_loss: 0.1574 - val_accuracy: 0.9680\n",
      "Epoch 14/20\n",
      "100778/100778 [==============================] - 8s 75us/step - loss: 0.1485 - accuracy: 0.9710 - val_loss: 0.1490 - val_accuracy: 0.9684\n",
      "Epoch 15/20\n",
      "100778/100778 [==============================] - 8s 75us/step - loss: 0.1406 - accuracy: 0.9715 - val_loss: 0.1416 - val_accuracy: 0.9688\n",
      "Epoch 16/20\n",
      "100778/100778 [==============================] - 8s 76us/step - loss: 0.1336 - accuracy: 0.9720 - val_loss: 0.1352 - val_accuracy: 0.9693\n",
      "Epoch 17/20\n",
      "100778/100778 [==============================] - 8s 75us/step - loss: 0.1275 - accuracy: 0.9724 - val_loss: 0.1294 - val_accuracy: 0.9695\n",
      "Epoch 18/20\n",
      "100778/100778 [==============================] - 8s 75us/step - loss: 0.1220 - accuracy: 0.9727 - val_loss: 0.1243 - val_accuracy: 0.9699\n",
      "Epoch 19/20\n",
      "100778/100778 [==============================] - 8s 75us/step - loss: 0.1172 - accuracy: 0.9732 - val_loss: 0.1197 - val_accuracy: 0.9701\n",
      "Epoch 20/20\n",
      "100778/100778 [==============================] - 8s 79us/step - loss: 0.1128 - accuracy: 0.9736 - val_loss: 0.1155 - val_accuracy: 0.9705\n"
     ]
    }
   ],
   "source": [
    "#Fit the model on our data.\n",
    "#X_train - The feature columns of the training data.\n",
    "#y_train - The labels columns of the training data.\n",
    "#validation_data - The validation data\n",
    "#batch_size and epochs further explained in document. \n",
    "history = model1.fit(X_train, y_train, \n",
    "          validation_data = (X_test, y_test),\n",
    "          batch_size = 32, \n",
    "          epochs = 20)"
   ]
  },
  {
   "cell_type": "code",
   "execution_count": 104,
   "metadata": {},
   "outputs": [
    {
     "data": {
      "text/plain": [
       "<matplotlib.legend.Legend at 0x27342990f08>"
      ]
     },
     "execution_count": 104,
     "metadata": {},
     "output_type": "execute_result"
    },
    {
     "data": {
      "image/png": "[encoded data removed]",
      "text/plain": [
       "<Figure size 1080x288 with 2 Axes>"
      ]
     },
     "metadata": {
      "needs_background": "light"
     },
     "output_type": "display_data"
    }
   ],
   "source": [
    "#use matplitlib to draw the plots\n",
    "plt.figure(figsize = (15, 4))\n",
    "plt.subplot(1, 2, 1)\n",
    "plt.plot(history.history['loss'], label = \"TRAINING LOSS\")\n",
    "plt.plot(history.history['val_loss'], label = \"VALIDATION LOSS\")\n",
    "plt.title(\"TRAINING LOSS vs VALIDATION LOSS\")\n",
    "plt.xlabel(\"EPOCH'S\")\n",
    "plt.ylabel(\"TRAINING LOSS vs VALIDATION LOSS\")\n",
    "plt.legend(loc = \"best\")\n",
    "\n",
    "plt.subplot(1, 2, 2)\n",
    "plt.plot(history.history['accuracy'], label = \"TRAINING ACCURACY\")\n",
    "plt.plot(history.history['val_accuracy'], label = \"VALIDATION ACCURACY\")\n",
    "plt.title(\"TRAINING ACCURACY vs VALIDATION ACCURACY\")\n",
    "plt.xlabel(\"EPOCH'S\")\n",
    "plt.ylabel(\"TRAINING ACC vs VALIDATION ACCURACY\")\n",
    "plt.legend(loc = \"best\")"
   ]
  },
  {
   "cell_type": "markdown",
   "metadata": {},
   "source": [
    "Explained in Results section."
   ]
  },
  {
   "cell_type": "markdown",
   "metadata": {},
   "source": [
    "Load and save model 1:"
   ]
  },
  {
   "cell_type": "code",
   "execution_count": 105,
   "metadata": {},
   "outputs": [
    {
     "name": "stdout",
     "output_type": "stream",
     "text": [
      "Saved model to disk\n"
     ]
    }
   ],
   "source": [
    "#Serialize model 1 , save with json. \n",
    "model_json = model1.to_json() \n",
    "with open(\"model1.json\", \"w\") as json_file:\n",
    "    json_file.write(model_json)\n",
    "model1.save_weights('model1_weights.h5')\n",
    "print(\"Saved model to disk\")"
   ]
  },
  {
   "cell_type": "code",
   "execution_count": 106,
   "metadata": {},
   "outputs": [
    {
     "name": "stdout",
     "output_type": "stream",
     "text": [
      "Loaded model from disk\n"
     ]
    }
   ],
   "source": [
    "# load model 1. \n",
    "json_file = open(\"model1.json\", \"r\") \n",
    "loaded_model_json = json_file.read() \n",
    "json_file.close() \n",
    "loaded_model = model_from_json(loaded_model_json) \n",
    "loaded_model.load_weights(\"model1_weights.h5\")\n",
    "print(\"Loaded model from disk\")"
   ]
  },
  {
   "cell_type": "markdown",
   "metadata": {},
   "source": [
    "Model 2: "
   ]
  },
  {
   "cell_type": "markdown",
   "metadata": {},
   "source": [
    "Single Dense Hidden Layer with Output Layer"
   ]
  },
  {
   "cell_type": "code",
   "execution_count": 107,
   "metadata": {},
   "outputs": [],
   "source": [
    "model2 = Sequential()\n",
    "model2.add(Dense(32, input_dim = 120, activation = \"relu\", kernel_initializer = \"lecun_normal\"))\n",
    "model2.add(BatchNormalization())\n",
    "model2.add(Dropout(0.2))\n",
    "model2.add(Dense(32, activation = \"relu\"))\n",
    "model2.add(Dense(5, activation = \"softmax\"))"
   ]
  },
  {
   "cell_type": "code",
   "execution_count": 108,
   "metadata": {},
   "outputs": [
    {
     "name": "stdout",
     "output_type": "stream",
     "text": [
      "Model: \"sequential_6\"\n",
      "_________________________________________________________________\n",
      "Layer (type)                 Output Shape              Param #   \n",
      "=================================================================\n",
      "dense_16 (Dense)             (None, 32)                3872      \n",
      "_________________________________________________________________\n",
      "batch_normalization_3 (Batch (None, 32)                128       \n",
      "_________________________________________________________________\n",
      "dropout_3 (Dropout)          (None, 32)                0         \n",
      "_________________________________________________________________\n",
      "dense_17 (Dense)             (None, 32)                1056      \n",
      "_________________________________________________________________\n",
      "dense_18 (Dense)             (None, 5)                 165       \n",
      "=================================================================\n",
      "Total params: 5,221\n",
      "Trainable params: 5,157\n",
      "Non-trainable params: 64\n",
      "_________________________________________________________________\n"
     ]
    }
   ],
   "source": [
    "#List summary again \n",
    "model2.summary()"
   ]
  },
  {
   "cell_type": "code",
   "execution_count": 109,
   "metadata": {},
   "outputs": [],
   "source": [
    "#SGD used instead of Adam!\n",
    "optim2 = optimizers.Adam(lr = 0.0001)\n",
    "model2.compile(loss = 'categorical_crossentropy', optimizer = optim, metrics = ['accuracy'])"
   ]
  },
  {
   "cell_type": "code",
   "execution_count": 110,
   "metadata": {},
   "outputs": [
    {
     "name": "stdout",
     "output_type": "stream",
     "text": [
      "Train on 100778 samples, validate on 25195 samples\n",
      "Epoch 1/30\n",
      "100778/100778 [==============================] - 11s 105us/step - loss: 1.1778 - accuracy: 0.5340 - val_loss: 0.8772 - val_accuracy: 0.7618\n",
      "Epoch 2/30\n",
      "100778/100778 [==============================] - 10s 99us/step - loss: 0.7130 - accuracy: 0.7847 - val_loss: 0.6113 - val_accuracy: 0.8527\n",
      "Epoch 3/30\n",
      "100778/100778 [==============================] - 10s 98us/step - loss: 0.5355 - accuracy: 0.8419 - val_loss: 0.5062 - val_accuracy: 0.9005\n",
      "Epoch 4/30\n",
      "100778/100778 [==============================] - 10s 95us/step - loss: 0.4418 - accuracy: 0.8684 - val_loss: 0.3939 - val_accuracy: 0.9087\n",
      "Epoch 5/30\n",
      "100778/100778 [==============================] - 9s 94us/step - loss: 0.3817 - accuracy: 0.8872 - val_loss: 0.3450 - val_accuracy: 0.9264\n",
      "Epoch 6/30\n",
      "100778/100778 [==============================] - 9s 92us/step - loss: 0.3385 - accuracy: 0.9017 - val_loss: 0.3072 - val_accuracy: 0.9386\n",
      "Epoch 7/30\n",
      "100778/100778 [==============================] - 9s 92us/step - loss: 0.3064 - accuracy: 0.9141 - val_loss: 0.2985 - val_accuracy: 0.9490\n",
      "Epoch 8/30\n",
      "100778/100778 [==============================] - 10s 96us/step - loss: 0.2811 - accuracy: 0.9246 - val_loss: 0.2487 - val_accuracy: 0.9542\n",
      "Epoch 9/30\n",
      "100778/100778 [==============================] - 10s 99us/step - loss: 0.2584 - accuracy: 0.9327 - val_loss: 0.2329 - val_accuracy: 0.9577\n",
      "Epoch 10/30\n",
      "100778/100778 [==============================] - 10s 98us/step - loss: 0.2411 - accuracy: 0.9383 - val_loss: 0.2040 - val_accuracy: 0.9582\n",
      "Epoch 11/30\n",
      "100778/100778 [==============================] - 10s 101us/step - loss: 0.2252 - accuracy: 0.9424 - val_loss: 0.2140 - val_accuracy: 0.9602\n",
      "Epoch 12/30\n",
      "100778/100778 [==============================] - 10s 97us/step - loss: 0.2120 - accuracy: 0.9467 - val_loss: 0.1982 - val_accuracy: 0.9635\n",
      "Epoch 13/30\n",
      "100778/100778 [==============================] - 9s 92us/step - loss: 0.2000 - accuracy: 0.9493 - val_loss: 0.1673 - val_accuracy: 0.9646\n",
      "Epoch 14/30\n",
      "100778/100778 [==============================] - 9s 92us/step - loss: 0.1913 - accuracy: 0.9509 - val_loss: 0.1537 - val_accuracy: 0.9659\n",
      "Epoch 15/30\n",
      "100778/100778 [==============================] - 9s 92us/step - loss: 0.1816 - accuracy: 0.9536 - val_loss: 0.1572 - val_accuracy: 0.9670\n",
      "Epoch 16/30\n",
      "100778/100778 [==============================] - 9s 93us/step - loss: 0.1724 - accuracy: 0.9554 - val_loss: 0.1486 - val_accuracy: 0.9679\n",
      "Epoch 17/30\n",
      "100778/100778 [==============================] - 9s 92us/step - loss: 0.1672 - accuracy: 0.9563 - val_loss: 0.1507 - val_accuracy: 0.9673\n",
      "Epoch 18/30\n",
      "100778/100778 [==============================] - 11s 105us/step - loss: 0.1603 - accuracy: 0.9587 - val_loss: 0.1289 - val_accuracy: 0.9679\n",
      "Epoch 19/30\n",
      "100778/100778 [==============================] - 10s 98us/step - loss: 0.1534 - accuracy: 0.9599 - val_loss: 0.1245 - val_accuracy: 0.9686\n",
      "Epoch 20/30\n",
      "100778/100778 [==============================] - 10s 99us/step - loss: 0.1479 - accuracy: 0.9614 - val_loss: 0.1222 - val_accuracy: 0.9685\n",
      "Epoch 21/30\n",
      "100778/100778 [==============================] - 10s 95us/step - loss: 0.1430 - accuracy: 0.9621 - val_loss: 0.1376 - val_accuracy: 0.9694\n",
      "Epoch 22/30\n",
      "100778/100778 [==============================] - 8s 76us/step - loss: 0.1384 - accuracy: 0.9628 - val_loss: 0.1143 - val_accuracy: 0.9694\n",
      "Epoch 23/30\n",
      "100778/100778 [==============================] - 9s 90us/step - loss: 0.1342 - accuracy: 0.9631 - val_loss: 0.1123 - val_accuracy: 0.9696\n",
      "Epoch 24/30\n",
      "100778/100778 [==============================] - 10s 97us/step - loss: 0.1321 - accuracy: 0.9646 - val_loss: 0.1094 - val_accuracy: 0.9699\n",
      "Epoch 25/30\n",
      "100778/100778 [==============================] - 10s 102us/step - loss: 0.1283 - accuracy: 0.9648 - val_loss: 0.1015 - val_accuracy: 0.9705\n",
      "Epoch 26/30\n",
      "100778/100778 [==============================] - 10s 97us/step - loss: 0.1253 - accuracy: 0.9661 - val_loss: 0.0991 - val_accuracy: 0.9713\n",
      "Epoch 27/30\n",
      "100778/100778 [==============================] - 9s 94us/step - loss: 0.1227 - accuracy: 0.9662 - val_loss: 0.0968 - val_accuracy: 0.9725\n",
      "Epoch 28/30\n",
      "100778/100778 [==============================] - 9s 93us/step - loss: 0.1200 - accuracy: 0.9666 - val_loss: 0.1004 - val_accuracy: 0.9722\n",
      "Epoch 29/30\n",
      "100778/100778 [==============================] - 10s 97us/step - loss: 0.1191 - accuracy: 0.9673 - val_loss: 0.0903 - val_accuracy: 0.9743\n",
      "Epoch 30/30\n",
      "100778/100778 [==============================] - 10s 98us/step - loss: 0.1131 - accuracy: 0.9687 - val_loss: 0.0987 - val_accuracy: 0.9734\n"
     ]
    }
   ],
   "source": [
    "#Train model and validate. \n",
    "history2 = model2.fit(X_train, y_train, \n",
    "           batch_size = 32, \n",
    "           epochs = 30, \n",
    "           validation_data = (X_test, y_test))"
   ]
  },
  {
   "cell_type": "code",
   "execution_count": 111,
   "metadata": {
    "scrolled": false
   },
   "outputs": [
    {
     "data": {
      "text/plain": [
       "<matplotlib.legend.Legend at 0x27343b60888>"
      ]
     },
     "execution_count": 111,
     "metadata": {},
     "output_type": "execute_result"
    },
    {
     "data": {
      "image/png": "[encoded data removed]",
      "text/plain": [
       "<Figure size 1080x288 with 2 Axes>"
      ]
     },
     "metadata": {
      "needs_background": "light"
     },
     "output_type": "display_data"
    }
   ],
   "source": [
    "plt.figure(figsize = (15, 4))\n",
    "plt.subplot(1, 2, 1) \n",
    "plt.plot(history2.history['loss'], label = \"TRAINING LOSS\") \n",
    "plt.plot(history2.history['val_loss'], label = \"VALIDATION LOSS\") \n",
    "plt.title(\"TRAINING LOSS vs VALIDATION LOSS\")\n",
    "plt.xlabel(\"EPOCH'S\") \n",
    "plt.ylabel(\"TRAINING ACC vs VALIDATION LOSS\") \n",
    "plt.legend(loc = \"best\") \n",
    "\n",
    "plt.subplot(1, 2, 2)\n",
    "plt.plot(history2.history['accuracy'], label = \"TRAINING ACCURACY\") \n",
    "plt.plot(history2.history['val_accuracy'], label = \"VALIDATION ACCURACY\") \n",
    "plt.title(\"TRAINING ACCURACY vs VALIDATION ACCURACY\") \n",
    "plt.xlabel(\"EPOCH'S\") \n",
    "plt.ylabel(\"TRAINING ACC vs VALIDATION ACCURACY\") \n",
    "plt.legend(loc = \"best\") "
   ]
  },
  {
   "cell_type": "markdown",
   "metadata": {},
   "source": [
    "Explained in results section. "
   ]
  },
  {
   "cell_type": "code",
   "execution_count": 112,
   "metadata": {},
   "outputs": [],
   "source": [
    "from sklearn.tree import DecisionTreeClassifier\n",
    "model3 = DecisionTreeClassifier()\n",
    "model3.fit(X_train, y_train)\n",
    "y_pred = model3.predict(X_test) # prediksi"
   ]
  },
  {
   "cell_type": "code",
   "execution_count": 113,
   "metadata": {
    "scrolled": true
   },
   "outputs": [
    {
     "data": {
      "text/plain": [
       "array([[ 9166,     0,     1,     0,     0],\n",
       "       [    3, 13540,     7,     6,     0],\n",
       "       [    2,     2,  2245,     0,     0],\n",
       "       [    0,     4,     0,   209,     1],\n",
       "       [    0,     3,     0,     0,     6]], dtype=int64)"
      ]
     },
     "execution_count": 113,
     "metadata": {},
     "output_type": "execute_result"
    }
   ],
   "source": [
    "# Evaluasi Model menggunakan Confusion Matrix\n",
    "\n",
    "from sklearn.metrics import confusion_matrix\n",
    "confusion_matrix(y_test.values.argmax(axis=1), y_pred.argmax(axis=1))\n"
   ]
  },
  {
   "cell_type": "code",
   "execution_count": 114,
   "metadata": {},
   "outputs": [
    {
     "data": {
      "image/png": "[encoded data removed]",
      "text/plain": [
       "<Figure size 576x360 with 2 Axes>"
      ]
     },
     "metadata": {
      "needs_background": "light"
     },
     "output_type": "display_data"
    }
   ],
   "source": [
    "# memvisualisasikan confusion matrix \n",
    "\n",
    "# Install seabornhttp://localhost:8888/notebooks/Deep-Learning-Based-Intrusion-Detection-NSL-KDD/UAS_IDS%2BConfusion%20Matrix-Kumpulin.ipynb#\n",
    "# !conda install -c anaconda seaborn -y \n",
    "\n",
    "import seaborn as sns\n",
    "import matplotlib.pyplot as plt\n",
    "f, ax = plt.subplots(figsize=(8,5))\n",
    "sns.heatmap(confusion_matrix(y_test.values.argmax(axis=1), y_pred.argmax(axis=1)), annot=True, fmt=\".0f\", ax=ax, cmap=plt.cm.Blues)\n",
    "plt.tight_layout()\n",
    "plt.xlabel(\"Predicted\")\n",
    "plt.ylabel(\"Actual\")\n",
    "plt.show()"
   ]
  },
  {
   "cell_type": "markdown",
   "metadata": {},
   "source": [
    "Keterangan:\n",
    "\n",
    "Output 0 = DoS\n",
    "Output 1 = Normal\n",
    "Output 2 = Probe\n",
    "Output 3 = R2L\n",
    "Output 4 = U2R\n",
    "\n",
    "Jumlah setiap output merupakan kisaran dari jumlah 20% dari masing-masing serangan, setiap kali program dijalankan jumlah yang diproses berubah-ubah. Namun total keseluruhan output merupakan hasil total dari 20% dataset yang menjadi test data (sebanyak 25195)."
   ]
  },
  {
   "cell_type": "code",
   "execution_count": 115,
   "metadata": {},
   "outputs": [
    {
     "name": "stdout",
     "output_type": "stream",
     "text": [
      "              precision    recall  f1-score   support\n",
      "\n",
      "           0       1.00      1.00      1.00      9167\n",
      "           1       1.00      1.00      1.00     13556\n",
      "           2       1.00      1.00      1.00      2249\n",
      "           3       0.97      0.98      0.97       214\n",
      "           4       0.86      0.67      0.75         9\n",
      "\n",
      "   micro avg       1.00      1.00      1.00     25195\n",
      "   macro avg       0.96      0.93      0.94     25195\n",
      "weighted avg       1.00      1.00      1.00     25195\n",
      " samples avg       1.00      1.00      1.00     25195\n",
      "\n"
     ]
    }
   ],
   "source": [
    "# Dari confusion matrix kita dapat mengetahui keakuratan dari model yang dibuat\n",
    "# dgn melihat performance metrics seperti: accuracy, recall, dan precision\n",
    "\n",
    "from sklearn.metrics import classification_report\n",
    "print (classification_report(y_test, y_pred))"
   ]
  },
  {
   "cell_type": "code",
   "execution_count": null,
   "metadata": {},
   "outputs": [],
   "source": []
  }
 ],
 "metadata": {
  "kernelspec": {
   "display_name": "Python 3",
   "language": "python",
   "name": "python3"
  },
  "language_info": {
   "codemirror_mode": {
    "name": "ipython",
    "version": 3
   },
   "file_extension": ".py",
   "mimetype": "text/x-python",
   "name": "python",
   "nbconvert_exporter": "python",
   "pygments_lexer": "ipython3",
   "version": "3.7.6"
  }
 },
 "nbformat": 4,
 "nbformat_minor": 2
}
